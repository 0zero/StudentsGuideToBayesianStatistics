{
 "cells": [
  {
   "cell_type": "code",
   "execution_count": 1,
   "metadata": {},
   "outputs": [],
   "source": [
    "import matplotlib.pyplot as plt\n",
    "import arviz as az\n",
    "from pystan import StanModel\n",
    "import numpy as np\n",
    "import pandas as pd\n",
    "import seaborn as sns"
   ]
  },
  {
   "cell_type": "markdown",
   "metadata": {},
   "source": [
    "## Problem 17.1: A meta-analysis of beta blocker trials"
   ]
  },
  {
   "cell_type": "code",
   "execution_count": 3,
   "metadata": {},
   "outputs": [
    {
     "data": {
      "text/html": [
       "<div>\n",
       "<style scoped>\n",
       "    .dataframe tbody tr th:only-of-type {\n",
       "        vertical-align: middle;\n",
       "    }\n",
       "\n",
       "    .dataframe tbody tr th {\n",
       "        vertical-align: top;\n",
       "    }\n",
       "\n",
       "    .dataframe thead th {\n",
       "        text-align: right;\n",
       "    }\n",
       "</style>\n",
       "<table border=\"1\" class=\"dataframe\">\n",
       "  <thead>\n",
       "    <tr style=\"text-align: right;\">\n",
       "      <th></th>\n",
       "      <th>Unnamed: 0</th>\n",
       "      <th>rt</th>\n",
       "      <th>nt</th>\n",
       "      <th>rc</th>\n",
       "      <th>nc</th>\n",
       "      <th>N</th>\n",
       "    </tr>\n",
       "  </thead>\n",
       "  <tbody>\n",
       "    <tr>\n",
       "      <th>0</th>\n",
       "      <td>1</td>\n",
       "      <td>3</td>\n",
       "      <td>38</td>\n",
       "      <td>3</td>\n",
       "      <td>39</td>\n",
       "      <td>22</td>\n",
       "    </tr>\n",
       "    <tr>\n",
       "      <th>1</th>\n",
       "      <td>2</td>\n",
       "      <td>7</td>\n",
       "      <td>114</td>\n",
       "      <td>14</td>\n",
       "      <td>116</td>\n",
       "      <td>22</td>\n",
       "    </tr>\n",
       "    <tr>\n",
       "      <th>2</th>\n",
       "      <td>3</td>\n",
       "      <td>5</td>\n",
       "      <td>69</td>\n",
       "      <td>11</td>\n",
       "      <td>93</td>\n",
       "      <td>22</td>\n",
       "    </tr>\n",
       "    <tr>\n",
       "      <th>3</th>\n",
       "      <td>4</td>\n",
       "      <td>102</td>\n",
       "      <td>1533</td>\n",
       "      <td>127</td>\n",
       "      <td>1520</td>\n",
       "      <td>22</td>\n",
       "    </tr>\n",
       "    <tr>\n",
       "      <th>4</th>\n",
       "      <td>5</td>\n",
       "      <td>28</td>\n",
       "      <td>355</td>\n",
       "      <td>27</td>\n",
       "      <td>365</td>\n",
       "      <td>22</td>\n",
       "    </tr>\n",
       "  </tbody>\n",
       "</table>\n",
       "</div>"
      ],
      "text/plain": [
       "   Unnamed: 0   rt    nt   rc    nc   N\n",
       "0           1    3    38    3    39  22\n",
       "1           2    7   114   14   116  22\n",
       "2           3    5    69   11    93  22\n",
       "3           4  102  1533  127  1520  22\n",
       "4           5   28   355   27   365  22"
      ]
     },
     "execution_count": 3,
     "metadata": {},
     "output_type": "execute_result"
    }
   ],
   "source": [
    "df = pd.read_csv(\"../all_data/hierarchical_betaBlocker.csv\")\n",
    "df.head()"
   ]
  },
  {
   "cell_type": "code",
   "execution_count": 3,
   "metadata": {},
   "outputs": [],
   "source": [
    " model_code = \"\"\"\n",
    "    data {\n",
    "      int<lower=0> N;\n",
    "      int<lower=0> nt[N];\n",
    "      int<lower=0> rt[N];\n",
    "      int<lower=0> nc[N];\n",
    "      int<lower=0> rc[N];\n",
    "    }\n",
    "    parameters {\n",
    "      vector[N] mu;\n",
    "      vector[N] delta;\n",
    "    }\n",
    "    model {\n",
    "      rt ~ binomial_logit(nt, mu + delta);\n",
    "      rc ~ binomial_logit(nc, mu);\n",
    "      delta ~ normal(0,10);\n",
    "      mu ~ normal(0,10);\n",
    "    }\n",
    "\"\"\""
   ]
  },
  {
   "cell_type": "code",
   "execution_count": 4,
   "metadata": {},
   "outputs": [
    {
     "name": "stderr",
     "output_type": "stream",
     "text": [
      "INFO:pystan:COMPILING THE C++ CODE FOR MODEL anon_model_11ad4a3f04194edb4c3a6297afa2f057 NOW.\n"
     ]
    }
   ],
   "source": [
    "sm = StanModel(model_code=model_code)"
   ]
  },
  {
   "cell_type": "code",
   "execution_count": 26,
   "metadata": {},
   "outputs": [],
   "source": [
    "fit = sm.sampling(\n",
    "    data=dict(N=len(df[\"N\"]),rt=df[\"rt\"],nt=df[\"nt\"],rc=df[\"rc\"],nc=df[\"nc\"]),\n",
    "    warmup=500,\n",
    "    iter=1000,\n",
    "    chains=4,\n",
    ")\n",
    "\n",
    "summary_dict = fit.summary()\n",
    "# df = pd.DataFrame(summary_dict['summary'], \n",
    "#                   columns=summary_dict['summary_colnames'], \n",
    "#                   index=summary_dict['summary_rownames'])"
   ]
  },
  {
   "cell_type": "code",
   "execution_count": 27,
   "metadata": {},
   "outputs": [
    {
     "data": {
      "text/plain": [
       "Inference for Stan model: anon_model_11ad4a3f04194edb4c3a6297afa2f057.\n",
       "4 chains, each with iter=1000; warmup=500; thin=1; \n",
       "post-warmup draws per chain=500, total post-warmup draws=2000.\n",
       "\n",
       "            mean se_mean     sd   2.5%    25%    50%    75%  97.5%  n_eff   Rhat\n",
       "mu[1]      -2.64    0.01   0.64   -4.0  -3.02  -2.59  -2.22  -1.52   2321    1.0\n",
       "mu[2]      -2.02  5.5e-3   0.28  -2.59   -2.2  -2.01  -1.82  -1.49   2681    1.0\n",
       "mu[3]      -2.05  6.7e-3   0.31  -2.69  -2.26  -2.03  -1.83  -1.48   2188    1.0\n",
       "mu[4]       -2.4  1.8e-3   0.09  -2.59  -2.46   -2.4  -2.34  -2.22   2587    1.0\n",
       "mu[5]      -2.54  3.6e-3   0.19  -2.93  -2.67  -2.54  -2.41  -2.17   2834    1.0\n",
       "mu[6]      -2.11  8.1e-3   0.44  -3.04  -2.39  -2.09  -1.81   -1.3   2934    1.0\n",
       "mu[7]      -1.65  1.8e-3   0.09  -1.82   -1.7  -1.64  -1.58  -1.48   2315    1.0\n",
       "mu[8]      -2.18  3.1e-3   0.15  -2.48  -2.28  -2.18  -2.08   -1.9   2335    1.0\n",
       "mu[9]      -1.91  3.6e-3   0.18  -2.27  -2.03   -1.9  -1.78  -1.56   2424    1.0\n",
       "mu[10]     -2.22  1.5e-3   0.08  -2.37  -2.28  -2.22  -2.17  -2.08   2691    1.0\n",
       "mu[11]     -2.33  2.7e-3   0.14  -2.61  -2.43  -2.33  -2.24  -2.06   2803    1.0\n",
       "mu[12]     -1.55  3.6e-3   0.17  -1.89  -1.66  -1.54  -1.43  -1.23   2157    1.0\n",
       "mu[13]     -2.88  4.9e-3   0.26   -3.4  -3.04  -2.87  -2.69  -2.41   2717    1.0\n",
       "mu[14]     -2.93  3.0e-3   0.16  -3.25  -3.03  -2.93  -2.82  -2.64   2784    1.0\n",
       "mu[15]     -1.33  4.5e-3   0.21  -1.75  -1.46  -1.33  -1.19  -0.92   2159    1.0\n",
       "mu[16]     -1.53  3.9e-3   0.18  -1.88  -1.65  -1.53  -1.41  -1.19   2128    1.0\n",
       "mu[17]     -2.25  6.5e-3    0.3  -2.89  -2.45  -2.23  -2.03   -1.7   2215    1.0\n",
       "mu[18]     -3.28  9.2e-3   0.43  -4.22  -3.54  -3.25  -2.98  -2.51   2180    1.0\n",
       "mu[19]     -3.91    0.01   0.61  -5.29  -4.25  -3.85  -3.47  -2.91   1954    1.0\n",
       "mu[20]      -1.5  3.5e-3   0.18  -1.86  -1.62   -1.5  -1.39  -1.15   2621    1.0\n",
       "mu[21]     -2.02  3.2e-3   0.17  -2.36  -2.13  -2.02  -1.91   -1.7   2663    1.0\n",
       "mu[22]      -2.8  3.4e-3   0.16  -3.12  -2.91   -2.8  -2.68  -2.49   2381    1.0\n",
       "delta[1]    0.02    0.02   0.93  -1.79  -0.57 1.4e-3   0.62   1.84   2396    1.0\n",
       "delta[2]   -0.77  9.8e-3   0.48  -1.73  -1.09  -0.76  -0.43   0.15   2413    1.0\n",
       "delta[3]    -0.6    0.01   0.56  -1.72  -0.95  -0.59  -0.22   0.45   2577    1.0\n",
       "delta[4]   -0.25  2.8e-3   0.14  -0.52  -0.34  -0.24  -0.15   0.04   2593    1.0\n",
       "delta[5]    0.07  5.2e-3   0.28  -0.47  -0.11   0.08   0.26    0.6   2809    1.0\n",
       "delta[6]   -0.61    0.01    0.7  -2.07  -1.04   -0.6  -0.15   0.71   3450    1.0\n",
       "delta[7]   -0.51  2.7e-3   0.14  -0.78  -0.61  -0.51  -0.42  -0.24   2509    1.0\n",
       "delta[8]   -0.08  4.3e-3    0.2  -0.48  -0.22  -0.09   0.05   0.31   2262    1.0\n",
       "delta[9]   -0.42  5.2e-3   0.28  -0.97   -0.6  -0.43  -0.23    0.1   2772    1.0\n",
       "delta[10]  -0.33  2.3e-3   0.12  -0.56  -0.41  -0.33  -0.25   -0.1   2486    1.0\n",
       "delta[11]  -0.21  3.7e-3   0.19  -0.58  -0.34  -0.22  -0.08   0.17   2677    1.0\n",
       "delta[12]  -0.04  4.7e-3   0.24   -0.5  -0.21  -0.04   0.12   0.42   2558    1.0\n",
       "delta[13]  -0.62  8.0e-3   0.41  -1.46  -0.88  -0.61  -0.33   0.19   2710    1.0\n",
       "delta[14]   0.29  3.8e-3   0.21  -0.13   0.15   0.29   0.43    0.7   3050    1.0\n",
       "delta[15]  -0.33  6.4e-3   0.31  -0.93  -0.53  -0.34  -0.13   0.27   2296    1.0\n",
       "delta[16]  -0.15  5.5e-3   0.26  -0.65  -0.32  -0.15   0.03   0.36   2216    1.0\n",
       "delta[17]   0.16  7.7e-3   0.36  -0.51   -0.1   0.15   0.39   0.92   2273    1.0\n",
       "delta[18]   0.34    0.01   0.56  -0.71  -0.05   0.33    0.7   1.52   2131    1.0\n",
       "delta[19]    0.5    0.02   0.75  -0.87  -0.02   0.48   0.95   2.09   2204    1.0\n",
       "delta[20]  -0.22  4.8e-3   0.27  -0.77   -0.4  -0.22  -0.05   0.33   3111    1.0\n",
       "delta[21]  -0.59  5.0e-3   0.26  -1.11  -0.76  -0.59  -0.42  -0.09   2651    1.0\n",
       "delta[22]  -0.61  5.4e-3   0.27  -1.15   -0.8  -0.61  -0.43  -0.09   2577    1.0\n",
       "lp__       -5959    0.17   4.67  -5970  -5962  -5959  -5956  -5951    781    1.0\n",
       "\n",
       "Samples were drawn using NUTS at Sat Jan  2 21:40:48 2021.\n",
       "For each parameter, n_eff is a crude measure of effective sample size,\n",
       "and Rhat is the potential scale reduction factor on split chains (at \n",
       "convergence, Rhat=1)."
      ]
     },
     "execution_count": 27,
     "metadata": {},
     "output_type": "execute_result"
    }
   ],
   "source": [
    "fit"
   ]
  },
  {
   "cell_type": "code",
   "execution_count": 7,
   "metadata": {},
   "outputs": [],
   "source": [
    " model_code_hier = \"\"\"\n",
    "    data {\n",
    "      int<lower=0> N;\n",
    "      int<lower=0> nt[N];\n",
    "      int<lower=0> rt[N];\n",
    "      int<lower=0> nc[N];\n",
    "      int<lower=0> rc[N];\n",
    "    }\n",
    "    parameters {\n",
    "      real d;\n",
    "      real<lower=0> sigma;\n",
    "      vector[N] mu;\n",
    "      vector[N] delta;\n",
    "    }\n",
    "    model {\n",
    "      rt ~ binomial_logit(nt, mu + delta);\n",
    "      rc ~ binomial_logit(nc, mu);\n",
    "      delta ~ normal(d,sigma);\n",
    "      mu ~ normal(0,10);\n",
    "      d ~ normal(0,10);\n",
    "      sigma ~ cauchy(0,2.5);\n",
    "    }\n",
    "\"\"\""
   ]
  },
  {
   "cell_type": "code",
   "execution_count": 8,
   "metadata": {},
   "outputs": [
    {
     "name": "stderr",
     "output_type": "stream",
     "text": [
      "INFO:pystan:COMPILING THE C++ CODE FOR MODEL anon_model_26ea2282677df1350e0f56efeed5a09b NOW.\n"
     ]
    }
   ],
   "source": [
    "sm_hier = StanModel(model_code=model_code_hier)"
   ]
  },
  {
   "cell_type": "code",
   "execution_count": 21,
   "metadata": {},
   "outputs": [],
   "source": [
    "fit_hier = sm_hier.sampling(\n",
    "    data=dict(N=len(df[\"N\"]),rt=df[\"rt\"],nt=df[\"nt\"],rc=df[\"rc\"],nc=df[\"nc\"]),\n",
    "    warmup=500,\n",
    "    iter=1000,\n",
    "    chains=4,\n",
    "#     seed=1,\n",
    "    control=dict(adapt_delta=0.99)\n",
    ")\n",
    "\n",
    "summary_dict_hier = fit_hier.summary()\n",
    "# df = pd.DataFrame(summary_dict_hier['summary'], \n",
    "#                   columns=summary_dict_hier['summary_colnames'], \n",
    "#                   index=summary_dict_hier['summary_rownames'])"
   ]
  },
  {
   "cell_type": "code",
   "execution_count": 22,
   "metadata": {},
   "outputs": [
    {
     "data": {
      "text/plain": [
       "Inference for Stan model: anon_model_26ea2282677df1350e0f56efeed5a09b.\n",
       "4 chains, each with iter=1000; warmup=500; thin=1; \n",
       "post-warmup draws per chain=500, total post-warmup draws=2000.\n",
       "\n",
       "            mean se_mean     sd   2.5%    25%    50%    75%  97.5%  n_eff   Rhat\n",
       "d          -0.25  2.5e-3   0.07  -0.39  -0.29  -0.25  -0.21  -0.11    772    1.0\n",
       "sigma       0.16  6.0e-3   0.08   0.04    0.1   0.15    0.2   0.34    173   1.02\n",
       "mu[1]      -2.43  8.9e-3   0.44  -3.37  -2.72   -2.4  -2.13  -1.64   2468    1.0\n",
       "mu[2]      -2.18  5.3e-3   0.25  -2.68  -2.34  -2.18  -2.01  -1.72   2183    1.0\n",
       "mu[3]      -2.13  5.3e-3   0.28  -2.68  -2.33  -2.12  -1.94  -1.62   2751    1.0\n",
       "mu[4]       -2.4  1.8e-3   0.08  -2.57  -2.45   -2.4  -2.34  -2.25   2138    1.0\n",
       "mu[5]      -2.42  3.6e-3   0.16  -2.74  -2.52  -2.42  -2.31  -2.12   1866    1.0\n",
       "mu[6]      -2.22  7.1e-3   0.35  -2.92  -2.46  -2.21  -1.98   -1.6   2443    1.0\n",
       "mu[7]       -1.7  2.2e-3   0.08  -1.86  -1.76   -1.7  -1.64  -1.53   1500    1.0\n",
       "mu[8]      -2.13  3.2e-3   0.13  -2.39  -2.21  -2.12  -2.04  -1.89   1572    1.0\n",
       "mu[9]      -1.95  3.7e-3   0.15  -2.25  -2.04  -1.95  -1.84  -1.65   1739    1.0\n",
       "mu[10]     -2.24  1.6e-3   0.07  -2.38  -2.28  -2.24  -2.19   -2.1   1974    1.0\n",
       "mu[11]     -2.31  2.9e-3   0.12  -2.56  -2.39  -2.31  -2.23  -2.08   1800    1.0\n",
       "mu[12]     -1.48  3.2e-3   0.13  -1.75  -1.57  -1.47  -1.38  -1.22   1772    1.0\n",
       "mu[13]     -2.99  4.8e-3   0.22  -3.43  -3.14  -2.99  -2.84  -2.58   2067    1.0\n",
       "mu[14]     -2.76  5.1e-3   0.14  -3.03  -2.85  -2.75  -2.66   -2.5    719    1.0\n",
       "mu[15]     -1.35  3.7e-3   0.17  -1.68  -1.47  -1.35  -1.24  -1.02   1970    1.0\n",
       "mu[16]     -1.49  3.3e-3   0.15  -1.77  -1.59  -1.49   -1.4   -1.2   2038    1.0\n",
       "mu[17]     -2.01  5.2e-3    0.2  -2.44  -2.14   -2.0  -1.87  -1.63   1552    1.0\n",
       "mu[18]     -2.97  5.2e-3   0.29  -3.57  -3.17  -2.97  -2.77  -2.45   3176    1.0\n",
       "mu[19]     -3.46  7.8e-3   0.35  -4.22  -3.69  -3.44  -3.21   -2.8   2072    1.0\n",
       "mu[20]     -1.49  3.6e-3   0.15   -1.8  -1.58  -1.48  -1.39  -1.21   1662    1.0\n",
       "mu[21]     -2.13  3.3e-3   0.14   -2.4  -2.22  -2.12  -2.03  -1.85   1765    1.0\n",
       "mu[22]     -2.91  3.0e-3   0.14  -3.19   -3.0  -2.91  -2.81  -2.64   2164    1.0\n",
       "delta[1]   -0.24  5.6e-3   0.19   -0.6  -0.34  -0.24  -0.14   0.17   1179    1.0\n",
       "delta[2]    -0.3  5.5e-3   0.18  -0.68   -0.4  -0.29  -0.19   0.03   1073    1.0\n",
       "delta[3]   -0.28  4.6e-3   0.18  -0.67  -0.37  -0.27  -0.18   0.07   1485    1.0\n",
       "delta[4]   -0.25  2.4e-3    0.1  -0.45  -0.32  -0.25  -0.18  -0.04   1891    1.0\n",
       "delta[5]   -0.17  5.7e-3   0.16  -0.44  -0.28  -0.19  -0.08    0.2    788    1.0\n",
       "delta[6]   -0.27  4.0e-3   0.17  -0.64  -0.36  -0.27  -0.17   0.09   1862    1.0\n",
       "delta[7]   -0.39  5.3e-3   0.12  -0.64  -0.46  -0.37   -0.3  -0.19    501   1.01\n",
       "delta[8]   -0.19  4.4e-3   0.14  -0.43  -0.28   -0.2  -0.11   0.11    940    1.0\n",
       "delta[9]    -0.3  4.5e-3   0.16  -0.65  -0.39   -0.3   -0.2 9.1e-5   1216    1.0\n",
       "delta[10]   -0.3  2.5e-3   0.09  -0.49  -0.36   -0.3  -0.24  -0.13   1434    1.0\n",
       "delta[11]  -0.24  3.4e-3   0.13  -0.48  -0.32  -0.24  -0.16   0.03   1390    1.0\n",
       "delta[12]  -0.18  4.2e-3   0.14  -0.44  -0.28   -0.2  -0.09   0.14   1157    1.0\n",
       "delta[13]   -0.3  4.3e-3   0.17  -0.68  -0.38  -0.28  -0.19   0.02   1508    1.0\n",
       "delta[14]  -0.06  9.1e-3   0.17  -0.34  -0.19  -0.07   0.05   0.32    354   1.01\n",
       "delta[15]  -0.27  3.6e-3   0.15   -0.6  -0.36  -0.26  -0.17   0.03   1810    1.0\n",
       "delta[16]  -0.22  3.9e-3   0.15  -0.52  -0.32  -0.23  -0.13   0.07   1400    1.0\n",
       "delta[17]  -0.18  5.8e-3   0.17  -0.47  -0.29  -0.19  -0.08   0.21    866    1.0\n",
       "delta[18]   -0.2  4.5e-3   0.17  -0.53  -0.31  -0.22  -0.11   0.21   1498    1.0\n",
       "delta[19]  -0.21  4.6e-3   0.18  -0.54  -0.32  -0.23  -0.11   0.21   1584    1.0\n",
       "delta[20]  -0.24  3.8e-3   0.15  -0.54  -0.33  -0.24  -0.16   0.07   1561    1.0\n",
       "delta[21]  -0.34  5.2e-3   0.15   -0.7  -0.43  -0.33  -0.25  -0.08    807    1.0\n",
       "delta[22]  -0.34  5.5e-3   0.16   -0.7  -0.42  -0.32  -0.24  -0.07    796    1.0\n",
       "lp__       -5926    0.96  11.39  -5946  -5934  -5928  -5920  -5901    142   1.02\n",
       "\n",
       "Samples were drawn using NUTS at Sat Jan  2 21:38:44 2021.\n",
       "For each parameter, n_eff is a crude measure of effective sample size,\n",
       "and Rhat is the potential scale reduction factor on split chains (at \n",
       "convergence, Rhat=1)."
      ]
     },
     "execution_count": 22,
     "metadata": {},
     "output_type": "execute_result"
    }
   ],
   "source": [
    "fit_hier"
   ]
  },
  {
   "cell_type": "code",
   "execution_count": null,
   "metadata": {},
   "outputs": [],
   "source": []
  },
  {
   "cell_type": "code",
   "execution_count": 28,
   "metadata": {},
   "outputs": [],
   "source": [
    "df_normal = pd.DataFrame(fit.extract(\"delta\")[\"delta\"])\n",
    "df_hier = pd.DataFrame(fit_hier.extract(\"delta\")[\"delta\"])"
   ]
  },
  {
   "cell_type": "code",
   "execution_count": 30,
   "metadata": {
    "scrolled": true
   },
   "outputs": [
    {
     "data": {
      "text/plain": [
       "<matplotlib.collections.LineCollection at 0x7fe8fb235e50>"
      ]
     },
     "execution_count": 30,
     "metadata": {},
     "output_type": "execute_result"
    },
    {
     "data": {
      "image/png": "[encoded data removed]",
      "text/plain": [
       "<Figure size 1296x576 with 1 Axes>"
      ]
     },
     "metadata": {
      "needs_background": "light"
     },
     "output_type": "display_data"
    }
   ],
   "source": [
    "plt.figure(figsize=(18,8))\n",
    "sns.violinplot(data=df_normal,color=\"darkorange\")\n",
    "sns.violinplot(data=df_hier,color=\"purple\")\n",
    "plt.hlines(0,0,21,linestyles=\"--\")"
   ]
  },
  {
   "cell_type": "code",
   "execution_count": 4,
   "metadata": {},
   "outputs": [],
   "source": [
    " model_code_hier = \"\"\"\n",
    "    data {\n",
    "      int<lower=0> N;\n",
    "      int<lower=0> nt[N];\n",
    "      int<lower=0> rt[N];\n",
    "      int<lower=0> nc[N];\n",
    "      int<lower=0> rc[N];\n",
    "    }\n",
    "    parameters {\n",
    "      real d;\n",
    "      real<lower=0> sigma;\n",
    "      vector[N] mu;\n",
    "      vector[N] delta;\n",
    "    }\n",
    "    model {\n",
    "      rt ~ binomial_logit(nt, mu + delta);\n",
    "      rc ~ binomial_logit(nc, mu);\n",
    "      delta ~ normal(d,sigma);\n",
    "      mu ~ normal(0,10);\n",
    "      d ~ normal(0,10);\n",
    "      sigma ~ cauchy(0,2.5);\n",
    "    }\n",
    "    generated quantities {\n",
    "      real delta_overall;\n",
    "      delta_overall = normal_rng(d,sigma);\n",
    "    }\n",
    "\"\"\""
   ]
  },
  {
   "cell_type": "code",
   "execution_count": 5,
   "metadata": {},
   "outputs": [
    {
     "name": "stderr",
     "output_type": "stream",
     "text": [
      "INFO:pystan:COMPILING THE C++ CODE FOR MODEL anon_model_d61ac3c3534f473ff64dab0b1cddef00 NOW.\n"
     ]
    }
   ],
   "source": [
    "sm_hier = StanModel(model_code=model_code_hier)"
   ]
  },
  {
   "cell_type": "code",
   "execution_count": 27,
   "metadata": {},
   "outputs": [],
   "source": [
    "fit_hier = sm_hier.sampling(\n",
    "    data=dict(N=len(df[\"N\"]),rt=df[\"rt\"],nt=df[\"nt\"],rc=df[\"rc\"],nc=df[\"nc\"]),\n",
    "    warmup=500,\n",
    "    iter=1000,\n",
    "    chains=4,\n",
    "    control=dict(adapt_delta=0.99)\n",
    ")\n"
   ]
  },
  {
   "cell_type": "code",
   "execution_count": 28,
   "metadata": {},
   "outputs": [
    {
     "data": {
      "text/plain": [
       "Inference for Stan model: anon_model_d61ac3c3534f473ff64dab0b1cddef00.\n",
       "4 chains, each with iter=1000; warmup=500; thin=1; \n",
       "post-warmup draws per chain=500, total post-warmup draws=2000.\n",
       "\n",
       "                mean se_mean     sd   2.5%    25%    50%    75%  97.5%  n_eff   Rhat\n",
       "d              -0.25  3.1e-3   0.07  -0.38  -0.29  -0.25   -0.2   -0.1    514    1.0\n",
       "sigma           0.15  5.8e-3   0.08   0.03   0.09   0.14    0.2   0.32    169   1.01\n",
       "mu[1]          -2.44  8.4e-3   0.44  -3.38  -2.72  -2.41  -2.13  -1.66   2713    1.0\n",
       "mu[2]          -2.18  5.6e-3   0.24  -2.68  -2.33  -2.17  -2.01  -1.71   1829    1.0\n",
       "mu[3]          -2.13  5.7e-3   0.26  -2.68   -2.3  -2.12  -1.95  -1.65   2122    1.0\n",
       "mu[4]           -2.4  1.8e-3   0.08  -2.56  -2.45   -2.4  -2.34  -2.25   2020    1.0\n",
       "mu[5]          -2.42  3.8e-3   0.16  -2.73  -2.52  -2.41  -2.31  -2.12   1742    1.0\n",
       "mu[6]          -2.22  7.5e-3   0.35  -2.95  -2.46  -2.21  -1.97  -1.57   2208    1.0\n",
       "mu[7]           -1.7  2.8e-3   0.08  -1.86  -1.76   -1.7  -1.65  -1.54    866    1.0\n",
       "mu[8]          -2.12  3.5e-3   0.12  -2.36   -2.2  -2.12  -2.04  -1.89   1207    1.0\n",
       "mu[9]          -1.96  3.6e-3   0.15  -2.28  -2.05  -1.96  -1.85  -1.66   1825    1.0\n",
       "mu[10]         -2.24  1.7e-3   0.07  -2.37  -2.29  -2.24  -2.19   -2.1   1587    1.0\n",
       "mu[11]         -2.31  2.9e-3   0.12  -2.56  -2.39  -2.31  -2.23  -2.08   1807    1.0\n",
       "mu[12]         -1.47  3.2e-3   0.13  -1.73  -1.56  -1.47  -1.38  -1.21   1764    1.0\n",
       "mu[13]         -2.99  4.5e-3   0.21  -3.42  -3.13  -2.99  -2.84  -2.58   2231    1.0\n",
       "mu[14]         -2.75  4.8e-3   0.13  -3.02  -2.84  -2.74  -2.65  -2.51    790    1.0\n",
       "mu[15]         -1.36  3.7e-3   0.16  -1.67  -1.46  -1.35  -1.25  -1.05   1933    1.0\n",
       "mu[16]         -1.49  3.3e-3   0.15  -1.78  -1.58  -1.49  -1.39  -1.21   1892    1.0\n",
       "mu[17]         -2.01  5.2e-3    0.2  -2.44  -2.13  -1.99  -1.88  -1.64   1416    1.0\n",
       "mu[18]         -2.97  6.3e-3   0.28  -3.58  -3.15  -2.96  -2.77  -2.44   2029    1.0\n",
       "mu[19]         -3.44  7.3e-3   0.35  -4.22  -3.67  -3.42   -3.2  -2.79   2327    1.0\n",
       "mu[20]         -1.49  3.3e-3   0.14  -1.78  -1.58  -1.49   -1.4  -1.22   1871    1.0\n",
       "mu[21]         -2.12  3.9e-3   0.14   -2.4  -2.22  -2.12  -2.03  -1.84   1312    1.0\n",
       "mu[22]          -2.9  3.3e-3   0.16  -3.21  -3.01   -2.9  -2.79  -2.61   2176    1.0\n",
       "delta[1]       -0.24  5.0e-3   0.17  -0.57  -0.34  -0.24  -0.13   0.14   1215    1.0\n",
       "delta[2]        -0.3  5.6e-3   0.17  -0.67  -0.39  -0.29   -0.2   0.01    873    1.0\n",
       "delta[3]       -0.27  4.9e-3   0.18  -0.64  -0.37  -0.27  -0.17   0.09   1283    1.0\n",
       "delta[4]       -0.25  2.4e-3    0.1  -0.44  -0.31  -0.25  -0.18  -0.05   1633    1.0\n",
       "delta[5]       -0.18  5.6e-3   0.15  -0.45  -0.28  -0.19  -0.09   0.17    757    1.0\n",
       "delta[6]       -0.27  5.1e-3   0.18  -0.67  -0.36  -0.26  -0.17    0.1   1307    1.0\n",
       "delta[7]       -0.38  5.3e-3   0.11  -0.63  -0.45  -0.37  -0.29  -0.18    459   1.01\n",
       "delta[8]       -0.19  4.5e-3   0.13  -0.44  -0.28   -0.2  -0.12   0.09    826    1.0\n",
       "delta[9]       -0.29  4.1e-3   0.14   -0.6  -0.37  -0.28  -0.21  -0.02   1153    1.0\n",
       "delta[10]       -0.3  2.7e-3   0.09  -0.48  -0.36  -0.29  -0.24  -0.12   1205    1.0\n",
       "delta[11]      -0.24  3.5e-3   0.13  -0.49  -0.32  -0.24  -0.16   0.02   1310    1.0\n",
       "delta[12]      -0.19  4.3e-3   0.13  -0.43  -0.29   -0.2  -0.11   0.09    990    1.0\n",
       "delta[13]      -0.29  4.5e-3   0.16  -0.66  -0.38  -0.28  -0.19 3.6e-3   1234    1.0\n",
       "delta[14]      -0.07  8.9e-3   0.17  -0.34  -0.19  -0.09   0.03   0.31    353    1.0\n",
       "delta[15]      -0.26  4.1e-3   0.14  -0.55  -0.35  -0.26  -0.17   0.03   1194    1.0\n",
       "delta[16]      -0.23  4.1e-3   0.14   -0.5  -0.31  -0.23  -0.15    0.1   1202    1.0\n",
       "delta[17]      -0.19  5.6e-3   0.16  -0.48  -0.29  -0.21   -0.1   0.19    842    1.0\n",
       "delta[18]       -0.2  5.3e-3   0.17  -0.49   -0.3  -0.21  -0.11   0.15   1007    1.0\n",
       "delta[19]      -0.21  5.5e-3   0.17  -0.53  -0.32  -0.23  -0.12   0.19   1014    1.0\n",
       "delta[20]      -0.23  4.2e-3   0.14   -0.5  -0.32  -0.24  -0.14   0.05   1139    1.0\n",
       "delta[21]      -0.34  5.9e-3   0.15   -0.7  -0.42  -0.31  -0.24  -0.09    668    1.0\n",
       "delta[22]      -0.34  5.9e-3   0.16   -0.7  -0.43  -0.32  -0.24  -0.07    707    1.0\n",
       "delta_overall  -0.25  5.1e-3   0.18  -0.62  -0.34  -0.25  -0.15   0.15   1285    1.0\n",
       "lp__           -5925    0.95  11.39  -5944  -5933  -5926  -5918  -5900    144   1.02\n",
       "\n",
       "Samples were drawn using NUTS at Sun Jan  3 16:01:44 2021.\n",
       "For each parameter, n_eff is a crude measure of effective sample size,\n",
       "and Rhat is the potential scale reduction factor on split chains (at \n",
       "convergence, Rhat=1)."
      ]
     },
     "execution_count": 28,
     "metadata": {},
     "output_type": "execute_result"
    }
   ],
   "source": [
    "fit_hier"
   ]
  },
  {
   "cell_type": "code",
   "execution_count": 29,
   "metadata": {},
   "outputs": [
    {
     "data": {
      "text/plain": [
       "array([<AxesSubplot:title={'center':'delta_overall'}>], dtype=object)"
      ]
     },
     "execution_count": 29,
     "metadata": {},
     "output_type": "execute_result"
    },
    {
     "data": {
      "image/png": "[encoded data removed]",
      "text/plain": [
       "<Figure size 432x288 with 1 Axes>"
      ]
     },
     "metadata": {
      "needs_background": "light"
     },
     "output_type": "display_data"
    }
   ],
   "source": [
    "az.plot_posterior(fit_hier,var_names=[\"delta_overall\"])"
   ]
  },
  {
   "cell_type": "code",
   "execution_count": 35,
   "metadata": {},
   "outputs": [
    {
     "data": {
      "text/plain": [
       "<seaborn.axisgrid.FacetGrid at 0x7f01a1a64460>"
      ]
     },
     "execution_count": 35,
     "metadata": {},
     "output_type": "execute_result"
    },
    {
     "data": {
      "image/png": "[encoded data removed]",
      "text/plain": [
       "<Figure size 360x360 with 1 Axes>"
      ]
     },
     "metadata": {
      "needs_background": "light"
     },
     "output_type": "display_data"
    }
   ],
   "source": [
    "sns.displot(fit_hier.to_dataframe()[\"delta_overall\"],kde=True)"
   ]
  },
  {
   "cell_type": "code",
   "execution_count": 33,
   "metadata": {},
   "outputs": [
    {
     "data": {
      "text/plain": [
       "<AxesSubplot:>"
      ]
     },
     "execution_count": 33,
     "metadata": {},
     "output_type": "execute_result"
    },
    {
     "data": {
      "image/png": "[encoded data removed]",
      "text/plain": [
       "<Figure size 432x288 with 1 Axes>"
      ]
     },
     "metadata": {
      "needs_background": "light"
     },
     "output_type": "display_data"
    }
   ],
   "source": [
    "fit_hier.to_dataframe()[\"delta_overall\"].hist(bins=10)"
   ]
  },
  {
   "cell_type": "code",
   "execution_count": 41,
   "metadata": {},
   "outputs": [],
   "source": [
    "model_code_constant = \"\"\"\n",
    "    data {\n",
    "      int<lower=0> N;\n",
    "      int<lower=0> nt[N];\n",
    "      int<lower=0> rt[N];\n",
    "      int<lower=0> nc[N];\n",
    "      int<lower=0> rc[N];\n",
    "    }\n",
    "    parameters {\n",
    "      real d;\n",
    "      real<lower=0> sigma;\n",
    "      real mu;\n",
    "      real delta;\n",
    "    }\n",
    "    model {\n",
    "      rt ~ binomial_logit(nt, mu + delta);\n",
    "      rc ~ binomial_logit(nc, mu);\n",
    "      delta ~ normal(d,sigma);\n",
    "      mu ~ normal(0,10);\n",
    "      d ~ normal(0,10);\n",
    "      sigma ~ cauchy(0,2.5);\n",
    "    }\n",
    "    generated quantities {\n",
    "      real delta_overall;\n",
    "      delta_overall = normal_rng(d,sigma);\n",
    "    }\n",
    "\"\"\""
   ]
  },
  {
   "cell_type": "code",
   "execution_count": 42,
   "metadata": {},
   "outputs": [
    {
     "name": "stderr",
     "output_type": "stream",
     "text": [
      "INFO:pystan:COMPILING THE C++ CODE FOR MODEL anon_model_58510cb7c1492e77c71f92c9304b128c NOW.\n"
     ]
    }
   ],
   "source": [
    "sm_constant = StanModel(model_code=model_code_constant)"
   ]
  },
  {
   "cell_type": "code",
   "execution_count": 103,
   "metadata": {},
   "outputs": [
    {
     "name": "stderr",
     "output_type": "stream",
     "text": [
      "WARNING:pystan:11 of 2000 iterations ended with a divergence (0.55 %).\n",
      "WARNING:pystan:Try running with adapt_delta larger than 0.999 to remove the divergences.\n"
     ]
    }
   ],
   "source": [
    "fit_constant = sm_constant.sampling(\n",
    "    data=dict(N=len(df[\"N\"]),rt=df[\"rt\"],nt=df[\"nt\"],rc=df[\"rc\"],nc=df[\"nc\"]),\n",
    "    warmup=500,\n",
    "    iter=1000,\n",
    "    chains=4,\n",
    "    control=dict(adapt_delta=0.999)\n",
    ")"
   ]
  },
  {
   "cell_type": "code",
   "execution_count": 104,
   "metadata": {},
   "outputs": [
    {
     "data": {
      "text/plain": [
       "Inference for Stan model: anon_model_58510cb7c1492e77c71f92c9304b128c.\n",
       "4 chains, each with iter=1000; warmup=500; thin=1; \n",
       "post-warmup draws per chain=500, total post-warmup draws=2000.\n",
       "\n",
       "                mean se_mean     sd   2.5%    25%    50%    75%  97.5%  n_eff   Rhat\n",
       "d              -0.41    0.14   2.97  -7.72  -1.34  -0.27   0.77   5.73    432   1.01\n",
       "sigma           3.39    0.21   5.48   0.14    0.9   1.98   3.87  15.71    676    1.0\n",
       "mu              -2.2  1.2e-3   0.03  -2.26  -2.22   -2.2  -2.18  -2.13    767    1.0\n",
       "delta          -0.26  1.9e-3   0.05  -0.35  -0.29  -0.26  -0.22  -0.15    664    1.0\n",
       "delta_overall  -0.43    0.19   6.89 -12.47  -1.85  -0.26   1.33  10.61   1332    1.0\n",
       "lp__           -6092    0.07   1.52  -6096  -6092  -6091  -6091  -6090    442    1.0\n",
       "\n",
       "Samples were drawn using NUTS at Sun Jan  3 18:14:08 2021.\n",
       "For each parameter, n_eff is a crude measure of effective sample size,\n",
       "and Rhat is the potential scale reduction factor on split chains (at \n",
       "convergence, Rhat=1)."
      ]
     },
     "execution_count": 104,
     "metadata": {},
     "output_type": "execute_result"
    }
   ],
   "source": [
    "fit_constant"
   ]
  },
  {
   "cell_type": "code",
   "execution_count": 105,
   "metadata": {},
   "outputs": [
    {
     "data": {
      "text/plain": [
       "<AxesSubplot:>"
      ]
     },
     "execution_count": 105,
     "metadata": {},
     "output_type": "execute_result"
    },
    {
     "data": {
      "image/png": "[encoded data removed]",
      "text/plain": [
       "<Figure size 432x288 with 1 Axes>"
      ]
     },
     "metadata": {
      "needs_background": "light"
     },
     "output_type": "display_data"
    }
   ],
   "source": [
    "fit_hier.to_dataframe()[\"delta_overall\"].hist(bins=20)\n",
    "fit_constant.to_dataframe()[\"delta\"].hist(bins=20)"
   ]
  },
  {
   "cell_type": "markdown",
   "metadata": {},
   "source": [
    "## 17.2 I can't get no sleep"
   ]
  },
  {
   "cell_type": "code",
   "execution_count": 3,
   "metadata": {},
   "outputs": [
    {
     "data": {
      "text/html": [
       "<div>\n",
       "<style scoped>\n",
       "    .dataframe tbody tr th:only-of-type {\n",
       "        vertical-align: middle;\n",
       "    }\n",
       "\n",
       "    .dataframe tbody tr th {\n",
       "        vertical-align: top;\n",
       "    }\n",
       "\n",
       "    .dataframe thead th {\n",
       "        text-align: right;\n",
       "    }\n",
       "</style>\n",
       "<table border=\"1\" class=\"dataframe\">\n",
       "  <thead>\n",
       "    <tr style=\"text-align: right;\">\n",
       "      <th></th>\n",
       "      <th>Unnamed: 0</th>\n",
       "      <th>Reaction</th>\n",
       "      <th>Days</th>\n",
       "      <th>Subject</th>\n",
       "    </tr>\n",
       "  </thead>\n",
       "  <tbody>\n",
       "    <tr>\n",
       "      <th>0</th>\n",
       "      <td>1</td>\n",
       "      <td>249.5600</td>\n",
       "      <td>0</td>\n",
       "      <td>308</td>\n",
       "    </tr>\n",
       "    <tr>\n",
       "      <th>1</th>\n",
       "      <td>2</td>\n",
       "      <td>258.7047</td>\n",
       "      <td>1</td>\n",
       "      <td>308</td>\n",
       "    </tr>\n",
       "    <tr>\n",
       "      <th>2</th>\n",
       "      <td>3</td>\n",
       "      <td>250.8006</td>\n",
       "      <td>2</td>\n",
       "      <td>308</td>\n",
       "    </tr>\n",
       "    <tr>\n",
       "      <th>3</th>\n",
       "      <td>4</td>\n",
       "      <td>321.4398</td>\n",
       "      <td>3</td>\n",
       "      <td>308</td>\n",
       "    </tr>\n",
       "    <tr>\n",
       "      <th>4</th>\n",
       "      <td>5</td>\n",
       "      <td>356.8519</td>\n",
       "      <td>4</td>\n",
       "      <td>308</td>\n",
       "    </tr>\n",
       "  </tbody>\n",
       "</table>\n",
       "</div>"
      ],
      "text/plain": [
       "   Unnamed: 0  Reaction  Days  Subject\n",
       "0           1  249.5600     0      308\n",
       "1           2  258.7047     1      308\n",
       "2           3  250.8006     2      308\n",
       "3           4  321.4398     3      308\n",
       "4           5  356.8519     4      308"
      ]
     },
     "execution_count": 3,
     "metadata": {},
     "output_type": "execute_result"
    }
   ],
   "source": [
    "df = pd.read_csv(\"../all_data/evaluation_sleepstudy.csv\")\n",
    "df.head()"
   ]
  },
  {
   "cell_type": "code",
   "execution_count": 4,
   "metadata": {},
   "outputs": [],
   "source": [
    " model_code = \"\"\"\n",
    "    data {\n",
    "      int N;\n",
    "      real r[N];\n",
    "      int days[N];\n",
    "    }\n",
    "    parameters {\n",
    "      real alpha;\n",
    "      real beta;\n",
    "      real<lower=0> sigma;\n",
    "      \n",
    "    }\n",
    "    model {\n",
    "        for (t in 1:N)\n",
    "              r[t] ~ normal(alpha + beta * days[t], sigma);\n",
    "              \n",
    "      alpha ~ normal(0,250);\n",
    "      beta ~ normal(0,250);\n",
    "      //sigma ~ gamma(1,1);\n",
    "    }\n",
    "\"\"\""
   ]
  },
  {
   "cell_type": "code",
   "execution_count": 5,
   "metadata": {},
   "outputs": [
    {
     "name": "stderr",
     "output_type": "stream",
     "text": [
      "INFO:pystan:COMPILING THE C++ CODE FOR MODEL anon_model_aaeee0a6f6ec50be36ff31db311e3026 NOW.\n"
     ]
    }
   ],
   "source": [
    "sm = StanModel(model_code=model_code)"
   ]
  },
  {
   "cell_type": "code",
   "execution_count": 6,
   "metadata": {},
   "outputs": [],
   "source": [
    "fit = sm.sampling(\n",
    "    data=dict(N=len(df[\"Reaction\"]),r=df[\"Reaction\"],days=df[\"Days\"]),\n",
    "    warmup=500,\n",
    "    iter=1000,\n",
    "    chains=4,\n",
    ")"
   ]
  },
  {
   "cell_type": "code",
   "execution_count": 7,
   "metadata": {},
   "outputs": [
    {
     "data": {
      "text/plain": [
       "Inference for Stan model: anon_model_aaeee0a6f6ec50be36ff31db311e3026.\n",
       "4 chains, each with iter=1000; warmup=500; thin=1; \n",
       "post-warmup draws per chain=500, total post-warmup draws=2000.\n",
       "\n",
       "        mean se_mean     sd   2.5%    25%    50%    75%  97.5%  n_eff   Rhat\n",
       "alpha 251.18    0.25   6.79 237.63 246.83 251.19 255.69 264.19    759    1.0\n",
       "beta   10.48    0.04   1.27   8.06   9.64  10.46  11.29  13.05    937    1.0\n",
       "sigma  48.07    0.07   2.51   43.5  46.35   48.0  49.62  53.28   1179    1.0\n",
       "lp__  -782.8    0.05    1.3 -786.2 -783.4 -782.5 -781.9 -781.4    687    1.0\n",
       "\n",
       "Samples were drawn using NUTS at Sat Jan  9 15:22:41 2021.\n",
       "For each parameter, n_eff is a crude measure of effective sample size,\n",
       "and Rhat is the potential scale reduction factor on split chains (at \n",
       "convergence, Rhat=1)."
      ]
     },
     "execution_count": 7,
     "metadata": {},
     "output_type": "execute_result"
    }
   ],
   "source": [
    "fit"
   ]
  },
  {
   "cell_type": "code",
   "execution_count": 8,
   "metadata": {},
   "outputs": [
    {
     "name": "stderr",
     "output_type": "stream",
     "text": [
      "/home/jaf/.conda/envs/pystan-env/lib/python3.8/site-packages/arviz/plots/kdeplot.py:372: RuntimeWarning: invalid value encountered in sqrt\n",
      "  std_devs = np.diag(cov ** 0.5)\n"
     ]
    },
    {
     "data": {
      "image/png": "[encoded data removed]",
      "text/plain": [
       "<Figure size 576x432 with 1 Axes>"
      ]
     },
     "metadata": {
      "needs_background": "light"
     },
     "output_type": "display_data"
    }
   ],
   "source": [
    "ax = az.plot_pair(\n",
    "    fit,\n",
    "    var_names=[\"alpha\", \"beta\"],\n",
    "    kind=\"kde\",\n",
    "    figsize=(8, 6),\n",
    ")"
   ]
  },
  {
   "cell_type": "markdown",
   "metadata": {},
   "source": [
    "strong negative correlation"
   ]
  },
  {
   "cell_type": "code",
   "execution_count": 9,
   "metadata": {},
   "outputs": [],
   "source": [
    " model_code = \"\"\"\n",
    "    data {\n",
    "      int N;\n",
    "      real r[N];\n",
    "      int days[N];\n",
    "    }\n",
    "    parameters {\n",
    "      real alpha;\n",
    "      real beta;\n",
    "      real<lower=0> sigma;\n",
    "      \n",
    "    }\n",
    "    model {\n",
    "        for (t in 1:N)\n",
    "              r[t] ~ normal(alpha + beta * days[t], sigma);\n",
    "              \n",
    "      alpha ~ normal(0,250);\n",
    "      beta ~ normal(0,250);\n",
    "      //sigma ~ gamma(1,1);\n",
    "    }\n",
    "    generated quantities {\n",
    "        vector[N] lSimData;\n",
    "        \n",
    "        //generate posterior predictive samples  \n",
    "        for (t in 1:N) {\n",
    "            lSimData[t] = normal_rng(alpha + beta * days[t], sigma);\n",
    "        }\n",
    "  \n",
    "    }\n",
    "\"\"\""
   ]
  },
  {
   "cell_type": "code",
   "execution_count": 10,
   "metadata": {},
   "outputs": [
    {
     "name": "stderr",
     "output_type": "stream",
     "text": [
      "INFO:pystan:COMPILING THE C++ CODE FOR MODEL anon_model_2710718486620d6d77d318bd424d9d9f NOW.\n"
     ]
    }
   ],
   "source": [
    "sm = StanModel(model_code=model_code)"
   ]
  },
  {
   "cell_type": "code",
   "execution_count": 11,
   "metadata": {},
   "outputs": [],
   "source": [
    "fit = sm.sampling(\n",
    "    data=dict(N=len(df[\"Reaction\"]),r=df[\"Reaction\"],days=df[\"Days\"]),\n",
    "    warmup=500,\n",
    "    iter=1000,\n",
    "    chains=4,\n",
    ")"
   ]
  },
  {
   "cell_type": "code",
   "execution_count": 12,
   "metadata": {},
   "outputs": [
    {
     "name": "stderr",
     "output_type": "stream",
     "text": [
      "WARNING:pystan:Truncated summary with the 'fit.__repr__' method. For the full summary use 'print(fit)'\n"
     ]
    },
    {
     "data": {
      "text/plain": [
       "\n",
       "Warning: Shown data is truncated to 100 parameters\n",
       "For the full summary use 'print(fit)'\n",
       "\n",
       "Inference for Stan model: anon_model_2710718486620d6d77d318bd424d9d9f.\n",
       "4 chains, each with iter=1000; warmup=500; thin=1; \n",
       "post-warmup draws per chain=500, total post-warmup draws=2000.\n",
       "\n",
       "               mean se_mean     sd   2.5%    25%    50%    75%  97.5%  n_eff   Rhat\n",
       "alpha         251.6    0.23   6.81  237.9  247.1 251.55 256.01 265.23    867    1.0\n",
       "beta          10.44    0.04   1.24   7.99   9.63  10.45  11.29  12.92    908    1.0\n",
       "sigma         47.98    0.07   2.51  43.36  46.32   47.9  49.58  53.13   1261    1.0\n",
       "lSimData[1]  251.85    1.08  46.98 161.41 220.86 250.93 284.03  346.2   1902    1.0\n",
       "lSimData[2]  262.16    1.11  49.22 162.94 229.76 262.25 295.27 360.23   1950    1.0\n",
       "lSimData[3]  271.02     1.1  49.06 173.55  237.7  270.7 304.71 367.57   1988    1.0\n",
       "lSimData[4]   282.2    1.13  48.75 183.11 250.33 282.82 313.68 378.98   1870    1.0\n",
       "lSimData[5]  292.88    1.11  47.53 199.03 261.82 291.86 325.55 386.83   1838    1.0\n",
       "lSimData[6]   304.7    1.14  48.49 209.51 272.04 304.65 336.37 401.58   1795    1.0\n",
       "lSimData[7]  314.02    1.07   48.3 217.62 282.26 313.49  346.2 405.99   2044    1.0\n",
       "lSimData[8]  324.04    1.06  47.75 232.36 290.34 324.78 355.74 417.89   2018    1.0\n",
       "lSimData[9]  335.71    1.08  48.44 239.36 303.49 336.56 368.48 427.32   2006    1.0\n",
       "lSimData[10] 347.33     1.1  48.55 252.86  314.8 346.53 379.73 442.45   1935    1.0\n",
       "lSimData[11] 250.77    1.06  48.27 151.36 219.71 250.84 282.27 343.29   2083    1.0\n",
       "lSimData[12] 260.19    1.07  48.52 163.07 228.75 260.39 291.58 357.39   2040    1.0\n",
       "lSimData[13] 271.84    1.07  47.62 176.32 239.62 270.52 302.77 365.46   1983    1.0\n",
       "lSimData[14] 284.79    1.15  47.77 192.78 251.15 285.74 318.43 374.09   1740    1.0\n",
       "lSimData[15] 292.74    1.09  47.56 196.71 261.62 292.48 325.08 388.19   1921    1.0\n",
       "lSimData[16] 304.52    1.07  47.53 211.17 273.18 303.65 337.58 395.72   1975    1.0\n",
       "lSimData[17] 313.97    1.07  47.03 224.05 281.99 314.32 345.43 405.23   1922    1.0\n",
       "lSimData[18] 323.87    1.15  47.96 227.59 292.03 324.35 355.88 416.87   1737    1.0\n",
       "lSimData[19] 333.26    1.12  48.97  237.4 300.51 333.27 366.04 428.99   1908    1.0\n",
       "lSimData[20] 345.47    1.14  49.41 247.24 312.37 347.35 378.59 442.86   1871    1.0\n",
       "lSimData[21] 252.07    1.17   49.0 154.71 219.73 252.34 284.93 349.39   1763    1.0\n",
       "lSimData[22] 260.84    1.04  46.92 173.13 229.44 259.66  292.8 350.99   2053    1.0\n",
       "lSimData[23] 271.48    1.07  48.43 178.67 238.28 271.04 305.37 366.26   2058    1.0\n",
       "lSimData[24] 284.82    1.13  48.75 191.79 252.02 285.22 317.04 380.36   1877    1.0\n",
       "lSimData[25] 292.32    1.11  47.92 197.17 260.13 291.61 323.96 387.88   1865    1.0\n",
       "lSimData[26] 303.89    1.08  48.34 209.78 270.59 304.29 335.58 401.89   2017    1.0\n",
       "lSimData[27] 315.23    1.09  49.41 217.01 283.57 314.58 349.23  413.3   2048    1.0\n",
       "lSimData[28] 325.69    1.09  49.19 227.19 293.59 325.68 359.08 420.65   2050    1.0\n",
       "lSimData[29] 333.34    1.15  48.83 238.26 300.21 334.32 366.81 428.03   1816    1.0\n",
       "lSimData[30] 346.03    1.05  47.89 255.65 313.58 345.95 377.16 438.71   2069    1.0\n",
       "lSimData[31] 251.85    1.12   48.2 155.92 220.61  251.1 284.94 343.44   1845    1.0\n",
       "lSimData[32] 261.87    1.12  48.56 166.56 228.33  261.8 294.64 359.16   1878    1.0\n",
       "lSimData[33] 271.52    1.05  46.99 178.75 239.76 270.63 303.51 365.68   2015    1.0\n",
       "lSimData[34] 282.79    1.14  48.77  187.9 250.33 282.33 316.19 377.37   1835    1.0\n",
       "lSimData[35] 294.21    1.05  48.83 199.32 261.85 294.95 326.71 390.46   2163    1.0\n",
       "lSimData[36] 303.46    1.06   47.0 212.63 271.89 303.51 334.18 395.66   1972    1.0\n",
       "lSimData[37] 313.54    1.06  47.11 224.55  280.6 313.74 345.18 407.98   1978    1.0\n",
       "lSimData[38] 326.84    1.08  48.17 235.78 293.27 326.03 358.98 422.21   2008    1.0\n",
       "lSimData[39] 335.83    1.09  47.71 245.21  302.8 335.45 368.56 430.49   1928    1.0\n",
       "lSimData[40] 346.42    1.12   49.2 252.01 311.21 347.52 380.29 443.21   1929    1.0\n",
       "lSimData[41] 248.61    1.19  49.76  155.8 214.21 249.39 281.91 347.85   1740    1.0\n",
       "lSimData[42] 261.75    1.15  48.63 166.19 230.29 261.32  293.2 355.21   1795    1.0\n",
       "lSimData[43] 273.18    1.11  47.99 179.39 240.99 272.38 305.37 370.48   1879    1.0\n",
       "lSimData[44] 282.66    1.08  48.74 185.78 251.23 282.14 314.01  380.8   2048    1.0\n",
       "lSimData[45] 291.68    1.06  49.02 200.66 259.29 289.33  323.3 388.31   2154    1.0\n",
       "lSimData[46] 302.95    1.08  48.46  205.6 271.71 304.96 334.67 395.66   2025    1.0\n",
       "lSimData[47] 313.91    1.13  48.86 216.87 281.59 313.34 347.88 408.18   1880    1.0\n",
       "lSimData[48] 325.91    1.12  47.27  232.0 293.73 327.61 357.05 415.71   1785    1.0\n",
       "lSimData[49] 336.09    1.07  47.44 241.32 304.58 337.12 369.19 424.85   1959    1.0\n",
       "lSimData[50] 346.58    1.07  48.05 255.27 313.57 346.24 380.02 443.16   2033    1.0\n",
       "lSimData[51] 253.64     1.1  48.02 155.68 221.55  253.6 287.33 344.84   1909    1.0\n",
       "lSimData[52] 258.32    1.18   48.4 161.36 225.54 258.52  291.1  351.0   1674    1.0\n",
       "lSimData[53] 272.79     1.1  48.15 178.18  239.6 272.58  306.9 363.64   1914    1.0\n",
       "lSimData[54] 283.15    1.14  47.78 190.87 250.56 283.03 316.13  379.2   1749    1.0\n",
       "lSimData[55] 293.09     1.1  47.39 201.92 262.25 292.56 325.84 386.33   1846    1.0\n",
       "lSimData[56] 306.79    1.06  48.29 206.07 274.99 308.63 339.78 399.41   2056    1.0\n",
       "lSimData[57]  314.7    1.05  48.12 222.66 281.38  315.2 347.61 410.08   2107    1.0\n",
       "lSimData[58] 324.22    1.08  49.31 230.19  290.7 323.97 356.24 426.03   2084    1.0\n",
       "lSimData[59] 334.23    1.16  47.76 242.06 300.85 335.14 367.52 426.12   1689    1.0\n",
       "lSimData[60] 346.03    1.08  47.74 250.85 313.47 346.64 378.55 435.43   1950    1.0\n",
       "lSimData[61] 251.86     1.1  48.17 156.68 219.49 252.98 284.77 345.66   1913    1.0\n",
       "lSimData[62] 261.99    1.06  48.01 169.01 230.07 261.97 292.96 360.54   2048    1.0\n",
       "lSimData[63] 272.79    1.07  47.51 180.64 241.47 271.31 304.23 365.48   1963    1.0\n",
       "lSimData[64] 282.24    1.11  49.06 187.53 247.89  281.5 315.06 379.43   1962    1.0\n",
       "lSimData[65] 293.42    1.13  49.24 196.55 260.69 292.26 328.09 389.15   1907    1.0\n",
       "lSimData[66] 305.01    1.08  48.47 209.11 272.55 304.83 337.57 397.25   2016    1.0\n",
       "lSimData[67] 312.34    1.07   47.0 222.91 281.35 312.92  343.2 405.42   1930    1.0\n",
       "lSimData[68] 323.53    1.03   46.4  230.3 293.07 323.65 354.92 414.15   2031    1.0\n",
       "lSimData[69] 335.63    1.13  48.69 241.17 302.87 336.44 367.62 434.26   1848    1.0\n",
       "lSimData[70] 344.15    1.13  49.17 247.14  311.0 343.54 377.83 440.93   1888    1.0\n",
       "lSimData[71] 252.12    1.08  48.15  157.7  219.4 251.77 283.55 347.78   1997    1.0\n",
       "lSimData[72] 261.62    1.14  48.21 169.63 228.29 262.32 292.62 358.47   1803    1.0\n",
       "lSimData[73] 272.43    1.12  48.07 179.31 239.13 274.14 304.24 366.95   1843    1.0\n",
       "lSimData[74]  284.5    1.11  48.41 188.07 251.66 284.42 318.45 375.69   1908    1.0\n",
       "lSimData[75] 292.93    1.09  47.83 197.73 261.22 293.17 324.25 388.52   1941    1.0\n",
       "lSimData[76] 303.56    1.21  48.53 207.52  271.1 304.95  335.6  396.4   1605    1.0\n",
       "lSimData[77]  314.7     1.1  49.32  218.5 281.84 314.96 348.58 409.91   2013    1.0\n",
       "lSimData[78] 325.16    1.08  48.16 230.07 293.06 325.94 356.64 421.14   1996    1.0\n",
       "lSimData[79] 334.03    1.02  46.89 239.85 304.38 334.76 365.43 424.37   2111    1.0\n",
       "lSimData[80] 346.09    1.05  47.79 258.28 312.85 344.83 379.52 439.04   2072    1.0\n",
       "lSimData[81] 252.68    1.12   47.4 166.12 220.44 251.24 284.25 350.18   1787    1.0\n",
       "lSimData[82] 263.06    1.12  48.07 166.92 231.46 262.78  294.2  355.5   1832    1.0\n",
       "lSimData[83] 272.12    1.23  49.23 178.07 238.45 271.82  305.0 369.64   1600    1.0\n",
       "lSimData[84] 283.92    1.09  47.88  193.3 250.74 283.56 315.83 378.07   1941    1.0\n",
       "lSimData[85] 294.67    1.07  48.43 197.75 262.04 295.09 327.42  388.7   2034    1.0\n",
       "lSimData[86] 304.04    1.07  48.63 208.69 272.91 304.87 335.61 398.13   2076    1.0\n",
       "lSimData[87] 314.16    1.15  48.95 215.61 281.57  315.3 347.79 405.73   1806    1.0\n",
       "lSimData[88] 323.98    1.12  47.83 231.69 290.95 323.33 356.31 416.03   1809    1.0\n",
       "lSimData[89] 334.28     1.1  48.76 241.92 301.37 333.47 366.83 432.57   1977    1.0\n",
       "lSimData[90] 345.81    1.06  48.45 249.72 312.46 347.21 377.29 443.13   2106    1.0\n",
       "lSimData[91] 251.45     1.1  48.11 159.09 220.11 251.16 282.18 349.41   1929    1.0\n",
       "lSimData[92] 261.63     1.1  48.08 167.64 228.56 262.13 293.33 357.04   1906    1.0\n",
       "lSimData[93] 272.53    1.12  49.01 175.97 240.19 273.19 306.56 370.05   1926    1.0\n",
       "lSimData[94] 283.75    1.07   48.9 183.88 251.69 283.91 317.11 376.91   2107    1.0\n",
       "lSimData[95] 293.82    1.07   47.3 199.13 262.55 294.35 326.51 387.21   1946    1.0\n",
       "lSimData[96] 303.31    1.07  46.94 208.63 271.85 303.71 335.46 393.63   1928    1.0\n",
       "lp__         -782.8    0.05   1.28 -786.3 -783.3 -782.5 -781.9 -781.5    709    1.0\n",
       "\n",
       "Samples were drawn using NUTS at Sat Jan  9 15:23:09 2021.\n",
       "For each parameter, n_eff is a crude measure of effective sample size,\n",
       "and Rhat is the potential scale reduction factor on split chains (at \n",
       "convergence, Rhat=1)."
      ]
     },
     "execution_count": 12,
     "metadata": {},
     "output_type": "execute_result"
    }
   ],
   "source": [
    "fit"
   ]
  },
  {
   "cell_type": "code",
   "execution_count": 13,
   "metadata": {},
   "outputs": [],
   "source": [
    "df_predictive = pd.DataFrame(fit.extract(\"lSimData\")[\"lSimData\"])"
   ]
  },
  {
   "cell_type": "code",
   "execution_count": 14,
   "metadata": {},
   "outputs": [
    {
     "data": {
      "text/plain": [
       "<AxesSubplot:xlabel='Days', ylabel='Reaction'>"
      ]
     },
     "execution_count": 14,
     "metadata": {},
     "output_type": "execute_result"
    },
    {
     "data": {
      "image/png": "[encoded data removed]",
      "text/plain": [
       "<Figure size 1296x576 with 1 Axes>"
      ]
     },
     "metadata": {
      "needs_background": "light"
     },
     "output_type": "display_data"
    }
   ],
   "source": [
    "plt.figure(figsize=(18,8))\n",
    "sns.violinplot(data=df_predictive,color=\"cyan\")\n",
    "plt.xlim([-1,10]);\n",
    "sns.scatterplot(x=\"Days\",y=\"Reaction\",data=df,hue=\"Subject\")"
   ]
  },
  {
   "cell_type": "code",
   "execution_count": 15,
   "metadata": {},
   "outputs": [],
   "source": [
    " model_code = \"\"\"\n",
    "    data {\n",
    "      int N;\n",
    "      vector[N] r;\n",
    "      vector[N] days;\n",
    "      int subject[N];\n",
    "    }\n",
    "    parameters {\n",
    "      real alpha[18];\n",
    "      real beta[18];\n",
    "      real<lower=0> sigma;\n",
    "      \n",
    "    }\n",
    "    model {\n",
    "        for (t in 1:N)\n",
    "              r[t] ~ normal(alpha[subject[t]] + beta[subject[t]] * days[t], sigma);\n",
    "              \n",
    "      alpha ~ normal(0,250);\n",
    "      beta ~ normal(0,250);\n",
    "      //sigma ~ normal(0,50);\n",
    "    }\n",
    "\"\"\""
   ]
  },
  {
   "cell_type": "code",
   "execution_count": 16,
   "metadata": {},
   "outputs": [],
   "source": [
    "def redo_subject_id(subject):\n",
    "    count = 1\n",
    "    ids = []\n",
    "    for i,sub in enumerate(subject):\n",
    "        if subject.iloc[i-1] != sub:\n",
    "            count = count+1\n",
    "        ids.append(count-1)\n",
    "    \n",
    "    return ids"
   ]
  },
  {
   "cell_type": "code",
   "execution_count": 17,
   "metadata": {},
   "outputs": [
    {
     "name": "stderr",
     "output_type": "stream",
     "text": [
      "INFO:pystan:COMPILING THE C++ CODE FOR MODEL anon_model_a3c8b83334f320b073ffa695a23de371 NOW.\n"
     ]
    }
   ],
   "source": [
    "sm = StanModel(model_code=model_code)"
   ]
  },
  {
   "cell_type": "code",
   "execution_count": 18,
   "metadata": {},
   "outputs": [],
   "source": [
    "fit = sm.sampling(\n",
    "    data=dict(N=len(df[\"Reaction\"]),r=df[\"Reaction\"],days=df[\"Days\"],subject=redo_subject_id(df[\"Subject\"])),\n",
    "    warmup=500,\n",
    "    iter=1000,\n",
    "    chains=4,\n",
    ")"
   ]
  },
  {
   "cell_type": "code",
   "execution_count": 19,
   "metadata": {},
   "outputs": [
    {
     "data": {
      "text/plain": [
       "Inference for Stan model: anon_model_a3c8b83334f320b073ffa695a23de371.\n",
       "4 chains, each with iter=1000; warmup=500; thin=1; \n",
       "post-warmup draws per chain=500, total post-warmup draws=2000.\n",
       "\n",
       "            mean se_mean     sd   2.5%    25%    50%    75%  97.5%  n_eff   Rhat\n",
       "alpha[1]  243.47     0.3  14.42 215.34 233.86 243.38 253.05 272.21   2279    1.0\n",
       "alpha[2]  204.59     0.3  14.86 173.93 194.81 204.94 214.86 232.22   2448    1.0\n",
       "alpha[3]  202.96    0.29  15.11 172.42 193.11 203.24 213.15 232.08   2725    1.0\n",
       "alpha[4]  288.82    0.29  14.95 258.97  278.8 288.75  299.1 318.39   2712    1.0\n",
       "alpha[5]  285.05    0.27  15.15 254.78 274.89 285.17  294.8  313.6   3242    1.0\n",
       "alpha[6]  262.96    0.27  15.19 233.39  252.6 262.57 273.57 292.36   3170    1.0\n",
       "alpha[7]  274.18     0.3  15.51 242.67 264.03 273.62 284.37 305.69   2657    1.0\n",
       "alpha[8]  238.91    0.28  15.72 207.12 229.19 238.68 249.31 269.94   3225    1.0\n",
       "alpha[9]  262.27     0.3  15.02  233.0 251.96 262.41 272.91 290.86   2591    1.0\n",
       "alpha[10] 288.72    0.28  15.38 258.84 278.69 288.53 299.06 319.89   2938    1.0\n",
       "alpha[11] 213.81    0.29  14.89 184.85 203.79 214.02 223.63 243.69   2584    1.0\n",
       "alpha[12] 225.29    0.31  14.96 195.76 215.69 225.92 235.27 253.56   2335    1.0\n",
       "alpha[13] 260.26    0.23  14.51 230.91 250.45 260.75 269.44  289.6   4122    1.0\n",
       "alpha[14] 275.43    0.29   16.2 243.54 264.53  275.3 286.14 308.46   3045    1.0\n",
       "alpha[15] 254.19    0.28   14.9 224.04 244.55 254.34 263.43 283.74   2849    1.0\n",
       "alpha[16] 209.84    0.29  15.32 179.53  200.0 209.98 220.63 238.63   2787    1.0\n",
       "alpha[17] 252.69     0.3   15.8 220.34 242.29 252.63 263.17 284.94   2720    1.0\n",
       "alpha[18] 265.88    0.28  15.33 236.67 255.37 265.71 276.57 294.92   3052    1.0\n",
       "beta[1]    21.88    0.06   2.76  16.29  20.06   21.9  23.76  27.05   2488    1.0\n",
       "beta[2]     2.36    0.05   2.76  -2.83   0.46   2.36   4.22   7.96   2583    1.0\n",
       "beta[3]     6.17    0.05   2.81   0.66   4.19   6.18   8.11  11.69   2703    1.0\n",
       "beta[4]     3.16    0.05   2.82  -2.33   1.14   3.19   5.14   8.81   2695    1.0\n",
       "beta[5]      5.4    0.05   2.88   -0.2   3.38   5.37   7.37   11.0   2903    1.0\n",
       "beta[6]     9.84    0.05   2.85   4.24   7.94   9.98  11.79  15.21   2872    1.0\n",
       "beta[7]     9.31    0.06   2.86    3.7    7.4   9.34  11.19  14.69   2528    1.0\n",
       "beta[8]    12.45    0.05    2.9   6.69  10.45  12.45  14.34  18.21   3171    1.0\n",
       "beta[9]    -2.77    0.05   2.82  -8.32   -4.7  -2.72  -0.82   2.64   2633    1.0\n",
       "beta[10]   19.18    0.06   2.89  13.42  17.33  19.26  21.08  24.72   2764    1.0\n",
       "beta[11]   13.67    0.05   2.73   8.24  11.82  13.67  15.49  19.02   2557    1.0\n",
       "beta[12]   19.56    0.06   2.82  13.87  17.71  19.59  21.44  25.08   2194    1.0\n",
       "beta[13]    6.63    0.05   2.71   1.13   4.86   6.63   8.41  11.82   3476    1.0\n",
       "beta[14]   13.74    0.05   2.98   7.81  11.78  13.71  15.77  19.56   3074    1.0\n",
       "beta[15]   11.49    0.05   2.78   6.02   9.59  11.51  13.32  17.01   3078    1.0\n",
       "beta[16]    18.2    0.05   2.84  12.75  16.28  18.19  20.06  23.66   2700    1.0\n",
       "beta[17]    9.32    0.06   2.95    3.4    7.3   9.34  11.34  15.14   2786    1.0\n",
       "beta[18]   11.49    0.06   2.87   5.97   9.55  11.49   13.4  17.02   2624    1.0\n",
       "sigma      25.81    0.04   1.57  23.02  24.71  25.71  26.81  29.21   1775    1.0\n",
       "lp__      -680.4    0.18   4.77 -690.9 -683.4 -680.1 -677.0 -671.9    712    1.0\n",
       "\n",
       "Samples were drawn using NUTS at Sat Jan  9 15:23:40 2021.\n",
       "For each parameter, n_eff is a crude measure of effective sample size,\n",
       "and Rhat is the potential scale reduction factor on split chains (at \n",
       "convergence, Rhat=1)."
      ]
     },
     "execution_count": 19,
     "metadata": {},
     "output_type": "execute_result"
    }
   ],
   "source": [
    "fit"
   ]
  },
  {
   "cell_type": "code",
   "execution_count": 20,
   "metadata": {},
   "outputs": [
    {
     "name": "stdout",
     "output_type": "stream",
     "text": [
      "Heterogeous posterior Beta means ranging from -2.7710223388202926 to 21.881730099117142.\n",
      "with a mean of 10.61491821247635 compared to homogeneous mean of 10.5.\n"
     ]
    }
   ],
   "source": [
    "posterior_means = np.mean(fit.extract(\"beta\")[\"beta\"],0)\n",
    "print(f\"Heterogeous posterior Beta means ranging from {posterior_means.min()} to {posterior_means.max()}.\")\n",
    "print(f\"with a mean of {posterior_means.mean()} compared to homogeneous mean of 10.5.\")"
   ]
  },
  {
   "cell_type": "code",
   "execution_count": 21,
   "metadata": {},
   "outputs": [],
   "source": [
    " model_code = \"\"\"\n",
    "    data {\n",
    "      int N;\n",
    "      vector[N] r;\n",
    "      vector[N] days;\n",
    "      int subject[N];\n",
    "    }\n",
    "    parameters {\n",
    "      real alpha[18];\n",
    "      real beta[18];\n",
    "      real<lower=0> sigma;\n",
    "      \n",
    "    }\n",
    "    model {\n",
    "        for (t in 1:N)\n",
    "              r[t] ~ normal(alpha[subject[t]] + beta[subject[t]] * days[t], sigma);\n",
    "              \n",
    "      alpha ~ normal(0,250);\n",
    "      beta ~ normal(0,250);\n",
    "      sigma ~ normal(0,50);\n",
    "    }\n",
    "    generated quantities {\n",
    "        vector[N] r_simulated;\n",
    "        \n",
    "        //generate posterior predictive samples  \n",
    "        for (t in 1:N) {\n",
    "            r_simulated[t] = normal_rng(alpha[subject[t]] + beta[subject[t]] * days[t], sigma);\n",
    "        }\n",
    "  \n",
    "    }    \n",
    "\"\"\""
   ]
  },
  {
   "cell_type": "code",
   "execution_count": 22,
   "metadata": {},
   "outputs": [
    {
     "name": "stderr",
     "output_type": "stream",
     "text": [
      "INFO:pystan:COMPILING THE C++ CODE FOR MODEL anon_model_5d91e1c53b8469ef1b325bd81a1f5826 NOW.\n"
     ]
    }
   ],
   "source": [
    "sm = StanModel(model_code=model_code)"
   ]
  },
  {
   "cell_type": "code",
   "execution_count": 23,
   "metadata": {},
   "outputs": [],
   "source": [
    "fit = sm.sampling(\n",
    "    data=dict(N=len(df[\"Reaction\"]),r=df[\"Reaction\"],days=df[\"Days\"],subject=redo_subject_id(df[\"Subject\"])),\n",
    "    warmup=500,\n",
    "    iter=1000,\n",
    "    chains=4,\n",
    ")"
   ]
  },
  {
   "cell_type": "code",
   "execution_count": 24,
   "metadata": {},
   "outputs": [
    {
     "name": "stderr",
     "output_type": "stream",
     "text": [
      "WARNING:pystan:Truncated summary with the 'fit.__repr__' method. For the full summary use 'print(fit)'\n"
     ]
    },
    {
     "data": {
      "text/plain": [
       "\n",
       "Warning: Shown data is truncated to 100 parameters\n",
       "For the full summary use 'print(fit)'\n",
       "\n",
       "Inference for Stan model: anon_model_5d91e1c53b8469ef1b325bd81a1f5826.\n",
       "4 chains, each with iter=1000; warmup=500; thin=1; \n",
       "post-warmup draws per chain=500, total post-warmup draws=2000.\n",
       "\n",
       "                  mean se_mean     sd   2.5%    25%    50%    75%  97.5%  n_eff   Rhat\n",
       "alpha[1]        243.66    0.28  15.47 214.54 232.87 243.29  254.1 273.58   3045    1.0\n",
       "alpha[2]        204.14    0.26  15.25  173.5 194.27 203.88  214.4 234.61   3386    1.0\n",
       "alpha[3]        203.23    0.29   15.2 173.16 193.01 203.07 213.74 231.47   2657    1.0\n",
       "alpha[4]        288.46     0.3  15.21 257.78 278.32 288.54 298.68 318.37   2656    1.0\n",
       "alpha[5]        284.37    0.29  14.91  254.6 274.46 284.25 294.41 314.44   2596    1.0\n",
       "alpha[6]        263.14    0.31  15.27 232.92 252.64 262.96 273.87 292.75   2488    1.0\n",
       "alpha[7]        274.11    0.29  14.77 243.51 264.24 274.05 284.09 303.45   2510    1.0\n",
       "alpha[8]        239.65    0.28  15.15 210.17 229.81 239.63  249.5  268.6   2836    1.0\n",
       "alpha[9]        261.79    0.28  14.96 231.64 251.69 261.94 271.91 290.36   2897    1.0\n",
       "alpha[10]       289.33    0.27   15.1 259.55 279.76 289.09 299.03 318.99   3203    1.0\n",
       "alpha[11]       213.99    0.28  15.22 182.97 204.15 213.83  224.0  244.1   2900    1.0\n",
       "alpha[12]       225.01    0.29  15.59 195.51 214.31  225.4 235.46 255.18   2900    1.0\n",
       "alpha[13]       260.64    0.31  15.54 228.91 250.41 260.83 271.39 290.75   2538    1.0\n",
       "alpha[14]       275.81    0.31  15.19 244.82 266.04 275.98  286.2 305.03   2419    1.0\n",
       "alpha[15]       254.07    0.32  15.64 223.62 242.64 254.53 265.06 284.84   2321    1.0\n",
       "alpha[16]       209.48     0.3  14.91 180.09 199.82 209.41 219.18 238.69   2547    1.0\n",
       "alpha[17]       253.38     0.3  15.73 223.39 242.87 253.24  263.8 284.53   2693    1.0\n",
       "alpha[18]       265.86    0.29  14.63 238.66 255.81 265.78 275.78 295.83   2548    1.0\n",
       "beta[1]          21.87    0.05   2.89   16.3   19.9  21.89  23.85   27.4   2904    1.0\n",
       "beta[2]           2.37    0.05   2.88   -3.4   0.55   2.39   4.29   7.84   3557    1.0\n",
       "beta[3]           6.16    0.06   2.85   0.54   4.22   6.17    8.1  11.73   2555    1.0\n",
       "beta[4]           3.15    0.06   2.81   -2.2   1.25   3.11   5.07   8.76   2508    1.0\n",
       "beta[5]           5.54    0.05   2.76   0.17    3.7   5.52   7.41   11.1   2603    1.0\n",
       "beta[6]           9.69    0.06   2.88    4.0   7.74   9.67  11.71  15.33   2626    1.0\n",
       "beta[7]           9.31    0.05   2.76   3.98   7.46   9.27  11.13  14.85   2547    1.0\n",
       "beta[8]          12.35    0.05   2.86   6.48  10.56  12.34  14.21  17.95   2729    1.0\n",
       "beta[9]          -2.71    0.06   2.87  -8.54  -4.52  -2.68  -0.87   2.97   2517    1.0\n",
       "beta[10]         19.16    0.05    2.8  13.54  17.28  19.16  21.02  24.66   3427    1.0\n",
       "beta[11]         13.72    0.06   2.87   8.23   11.8  13.66  15.57   19.6   2494    1.0\n",
       "beta[12]          19.6    0.05   2.95  13.98  17.57  19.64  21.62   25.4   3044    1.0\n",
       "beta[13]          6.59    0.06   2.93   0.81   4.76   6.58   8.51  12.37   2694    1.0\n",
       "beta[14]         13.63    0.06    2.9   8.29  11.61  13.55  15.53   19.4   2490    1.0\n",
       "beta[15]         11.55    0.06   2.93   5.93   9.53  11.61   13.6  17.12   2401    1.0\n",
       "beta[16]         18.17    0.05   2.83  12.66  16.36  18.16   20.0  23.69   2715    1.0\n",
       "beta[17]          9.21    0.05   2.92   3.34   7.18   9.23  11.25  14.89   2876    1.0\n",
       "beta[18]         11.49    0.05   2.78   5.92   9.64  11.54  13.37  16.79   2605    1.0\n",
       "sigma            25.76    0.04   1.56  22.98  24.61  25.65  26.76  29.16   1914    1.0\n",
       "r_simulated[1]  243.27    0.61  29.67 186.32 222.37 242.25 262.84 302.54   2353    1.0\n",
       "r_simulated[2]  265.07    0.68  29.53 206.43 244.98 265.14 284.77 325.04   1902    1.0\n",
       "r_simulated[3]  288.05    0.67  28.12 233.07 269.94 287.81  306.7 343.31   1784    1.0\n",
       "r_simulated[4]  308.55    0.62  27.61 254.62 289.06 308.73 327.07  362.8   1995    1.0\n",
       "r_simulated[5]  331.65    0.62  27.28 278.07 313.44 331.36 350.47 384.38   1950    1.0\n",
       "r_simulated[6]  353.34    0.59  26.26 300.46 335.93  353.5 371.48  404.8   2014    1.0\n",
       "r_simulated[7]  376.64    0.62  27.44 323.73 357.81 376.39 395.33 428.82   1945    1.0\n",
       "r_simulated[8]  397.52     0.6  27.99 343.43 378.84  397.5 416.86 452.39   2151    1.0\n",
       "r_simulated[9]  419.13    0.65   28.7 364.73 400.01 418.64 438.02  477.6   1974    1.0\n",
       "r_simulated[10] 441.15    0.64  29.48 386.05 420.53 440.54 461.55 498.43   2127    1.0\n",
       "r_simulated[11] 203.92    0.62  29.85 148.59 183.46 203.57 223.25 263.21   2338    1.0\n",
       "r_simulated[12] 205.87    0.67  28.88 149.21 186.51 205.72 225.94 262.18   1875    1.0\n",
       "r_simulated[13] 209.35    0.63  27.79 154.93 190.24 209.09 228.28 263.13   1967    1.0\n",
       "r_simulated[14] 210.77    0.61  27.77  154.2 192.97 210.75 230.39 262.57   2084    1.0\n",
       "r_simulated[15] 213.56    0.62  27.29 159.83  194.6 213.68 231.82 267.15   1925    1.0\n",
       "r_simulated[16] 215.79    0.62  27.25 163.15 196.89  215.6 233.69 271.38   1935    1.0\n",
       "r_simulated[17] 217.91    0.59  26.92 167.43 198.66 217.95 236.47 270.77   2080    1.0\n",
       "r_simulated[18] 219.94    0.61  27.92 164.38 201.51 219.35  239.4 275.01   2101    1.0\n",
       "r_simulated[19] 222.62    0.64  29.35 166.08 202.88 222.24 241.59 278.59   2078    1.0\n",
       "r_simulated[20] 226.06    0.69  30.73 163.99 205.75 226.42 247.01 284.94   2000    1.0\n",
       "r_simulated[21] 203.18    0.62  29.76 143.29 183.82  203.3 222.29 263.09   2329    1.0\n",
       "r_simulated[22] 209.58    0.61  29.07 152.25 189.97 209.08 228.09  267.9   2254    1.0\n",
       "r_simulated[23]  215.7    0.63  27.87 162.04 196.65 215.65 233.14 271.54   1954    1.0\n",
       "r_simulated[24] 221.27    0.62  27.55 167.01 203.38  221.7 239.29  274.5   1978    1.0\n",
       "r_simulated[25] 228.02    0.58  27.06 173.04 209.95 228.74 246.73 281.04   2176    1.0\n",
       "r_simulated[26] 234.49     0.6  27.19  184.5 215.61 233.67 252.25 288.33   2035    1.0\n",
       "r_simulated[27]  239.1    0.61  27.26 185.53  221.0 239.01 257.16 293.92   1993    1.0\n",
       "r_simulated[28] 246.04    0.63  28.33 191.62 227.36 245.82 264.97 302.34   2030    1.0\n",
       "r_simulated[29] 253.19    0.69  29.72 195.54 232.67 253.31 273.41 310.96   1879    1.0\n",
       "r_simulated[30] 259.34    0.65  31.05 198.69 238.33 260.03 279.73 319.72   2249    1.0\n",
       "r_simulated[31] 288.07    0.64  30.92 229.95 266.25 287.24 308.62 348.41   2309    1.0\n",
       "r_simulated[32] 291.54    0.67  28.95 234.14 272.75 291.43 309.99 349.18   1854    1.0\n",
       "r_simulated[33] 295.19    0.61  27.88 241.27 275.92 294.51 314.56 349.51   2105    1.0\n",
       "r_simulated[34] 297.35    0.63  27.53 244.19 278.96 297.83 314.99 351.27   1900    1.0\n",
       "r_simulated[35] 300.86    0.59  26.95 247.49 283.02 300.54 318.28  353.4   2107    1.0\n",
       "r_simulated[36] 304.49    0.59  26.59 253.85 286.14 303.89  322.1 358.86   2064    1.0\n",
       "r_simulated[37] 308.04    0.61  27.49 252.73 289.96 308.54 326.33 360.85   2007    1.0\n",
       "r_simulated[38] 310.36    0.62  27.63 255.99 291.72 310.98 329.45 362.17   1979    1.0\n",
       "r_simulated[39] 313.63    0.62  28.37 259.29 293.81 314.31 333.04 368.47   2111    1.0\n",
       "r_simulated[40] 316.79    0.71  30.52 256.99  296.7 317.83 337.42 376.94   1864    1.0\n",
       "r_simulated[41] 283.46    0.63  30.37 225.04 262.76 284.06 303.59 340.61   2334    1.0\n",
       "r_simulated[42] 290.64    0.65  28.31 234.54 272.29 290.08 308.88 345.83   1915    1.0\n",
       "r_simulated[43] 294.61     0.6  27.41 240.38 276.02 294.68 313.22 348.71   2099    1.0\n",
       "r_simulated[44] 300.98    0.63  28.05 245.79  282.1 300.65 319.21  356.9   1962    1.0\n",
       "r_simulated[45] 306.72    0.58  26.33 252.84 289.13 307.15 324.18 357.14   2030    1.0\n",
       "r_simulated[46] 311.89    0.65  27.06 258.77 293.82 311.44 330.66  364.9   1757    1.0\n",
       "r_simulated[47] 317.47    0.63  27.31 262.58 298.96 318.42  335.6 370.66   1878    1.0\n",
       "r_simulated[48] 323.78     0.6  27.88 269.31  304.9 324.04 342.77 377.74   2186    1.0\n",
       "r_simulated[49] 329.13    0.66   28.1 272.51 310.63 328.98 348.54 383.58   1789    1.0\n",
       "r_simulated[50] 333.82    0.64  29.95 274.55 312.48 334.01 355.41 391.51   2165    1.0\n",
       "r_simulated[51] 262.71    0.65   29.9 203.44 242.13 263.18 282.99 320.43   2088    1.0\n",
       "r_simulated[52] 273.11    0.67  28.62  217.3 253.87 273.22 292.53  330.3   1834    1.0\n",
       "r_simulated[53] 282.43    0.67  28.54 228.45 262.85 282.59 301.79 339.18   1821    1.0\n",
       "r_simulated[54] 291.92    0.66  27.56 235.44 274.04 291.74 311.01 346.55   1768    1.0\n",
       "r_simulated[55] 302.51    0.63  27.17 248.07 284.17 301.97 321.66 356.87   1856    1.0\n",
       "r_simulated[56]  311.0     0.6  26.78 259.04 292.39 310.88 329.11 364.01   2021    1.0\n",
       "r_simulated[57] 321.21    0.57  27.11  268.5 303.52 321.39 338.86 371.94   2268    1.0\n",
       "r_simulated[58] 330.55    0.61  27.66 274.15 312.12 331.44 349.29 384.52   2025    1.0\n",
       "r_simulated[59] 340.45    0.62  29.42  283.6 321.02 339.79  359.9 398.95   2242    1.0\n",
       "r_simulated[60] 350.67    0.68   29.3  294.5 330.75 350.46  370.3 408.05   1857    1.0\n",
       "r_simulated[61] 273.63    0.68   29.5 212.65 254.33 273.71 293.04 332.97   1891    1.0\n",
       "r_simulated[62] 282.28    0.64  28.59 226.45 263.59 282.42 301.45 337.84   1996    1.0\n",
       "lp__            -680.4    0.17   4.74 -691.0 -683.3 -680.0 -677.0 -672.4    803    1.0\n",
       "\n",
       "Samples were drawn using NUTS at Sat Jan  9 15:24:09 2021.\n",
       "For each parameter, n_eff is a crude measure of effective sample size,\n",
       "and Rhat is the potential scale reduction factor on split chains (at \n",
       "convergence, Rhat=1)."
      ]
     },
     "execution_count": 24,
     "metadata": {},
     "output_type": "execute_result"
    }
   ],
   "source": [
    "fit"
   ]
  },
  {
   "cell_type": "code",
   "execution_count": 25,
   "metadata": {},
   "outputs": [
    {
     "data": {
      "text/html": [
       "<div>\n",
       "<style scoped>\n",
       "    .dataframe tbody tr th:only-of-type {\n",
       "        vertical-align: middle;\n",
       "    }\n",
       "\n",
       "    .dataframe tbody tr th {\n",
       "        vertical-align: top;\n",
       "    }\n",
       "\n",
       "    .dataframe thead th {\n",
       "        text-align: right;\n",
       "    }\n",
       "</style>\n",
       "<table border=\"1\" class=\"dataframe\">\n",
       "  <thead>\n",
       "    <tr style=\"text-align: right;\">\n",
       "      <th></th>\n",
       "      <th>0</th>\n",
       "      <th>1</th>\n",
       "      <th>2</th>\n",
       "      <th>3</th>\n",
       "      <th>4</th>\n",
       "      <th>5</th>\n",
       "      <th>6</th>\n",
       "      <th>7</th>\n",
       "      <th>8</th>\n",
       "      <th>9</th>\n",
       "      <th>...</th>\n",
       "      <th>170</th>\n",
       "      <th>171</th>\n",
       "      <th>172</th>\n",
       "      <th>173</th>\n",
       "      <th>174</th>\n",
       "      <th>175</th>\n",
       "      <th>176</th>\n",
       "      <th>177</th>\n",
       "      <th>178</th>\n",
       "      <th>179</th>\n",
       "    </tr>\n",
       "  </thead>\n",
       "  <tbody>\n",
       "    <tr>\n",
       "      <th>0</th>\n",
       "      <td>221.348404</td>\n",
       "      <td>246.301137</td>\n",
       "      <td>281.504843</td>\n",
       "      <td>298.783743</td>\n",
       "      <td>283.778550</td>\n",
       "      <td>382.501627</td>\n",
       "      <td>410.412267</td>\n",
       "      <td>396.121811</td>\n",
       "      <td>401.675644</td>\n",
       "      <td>433.253666</td>\n",
       "      <td>...</td>\n",
       "      <td>221.776961</td>\n",
       "      <td>350.640104</td>\n",
       "      <td>300.081095</td>\n",
       "      <td>348.150427</td>\n",
       "      <td>335.105656</td>\n",
       "      <td>284.163669</td>\n",
       "      <td>294.178477</td>\n",
       "      <td>330.588328</td>\n",
       "      <td>352.735628</td>\n",
       "      <td>404.406192</td>\n",
       "    </tr>\n",
       "    <tr>\n",
       "      <th>1</th>\n",
       "      <td>258.413680</td>\n",
       "      <td>240.297298</td>\n",
       "      <td>304.227009</td>\n",
       "      <td>349.003675</td>\n",
       "      <td>327.485109</td>\n",
       "      <td>352.642160</td>\n",
       "      <td>382.214687</td>\n",
       "      <td>390.655123</td>\n",
       "      <td>408.396323</td>\n",
       "      <td>479.647867</td>\n",
       "      <td>...</td>\n",
       "      <td>308.849173</td>\n",
       "      <td>290.834335</td>\n",
       "      <td>283.358114</td>\n",
       "      <td>308.442525</td>\n",
       "      <td>346.755540</td>\n",
       "      <td>358.485231</td>\n",
       "      <td>337.776151</td>\n",
       "      <td>395.098415</td>\n",
       "      <td>383.978622</td>\n",
       "      <td>364.491669</td>\n",
       "    </tr>\n",
       "    <tr>\n",
       "      <th>2</th>\n",
       "      <td>288.567813</td>\n",
       "      <td>256.737795</td>\n",
       "      <td>300.528556</td>\n",
       "      <td>328.903950</td>\n",
       "      <td>340.805312</td>\n",
       "      <td>375.411487</td>\n",
       "      <td>414.562217</td>\n",
       "      <td>431.459041</td>\n",
       "      <td>457.899931</td>\n",
       "      <td>422.490487</td>\n",
       "      <td>...</td>\n",
       "      <td>246.969470</td>\n",
       "      <td>274.676314</td>\n",
       "      <td>274.673515</td>\n",
       "      <td>280.440062</td>\n",
       "      <td>308.666542</td>\n",
       "      <td>335.467031</td>\n",
       "      <td>317.563494</td>\n",
       "      <td>391.969518</td>\n",
       "      <td>423.688073</td>\n",
       "      <td>337.736295</td>\n",
       "    </tr>\n",
       "    <tr>\n",
       "      <th>3</th>\n",
       "      <td>283.890856</td>\n",
       "      <td>290.221804</td>\n",
       "      <td>339.141279</td>\n",
       "      <td>319.872522</td>\n",
       "      <td>347.887489</td>\n",
       "      <td>325.377463</td>\n",
       "      <td>401.172961</td>\n",
       "      <td>448.499497</td>\n",
       "      <td>404.135901</td>\n",
       "      <td>445.199017</td>\n",
       "      <td>...</td>\n",
       "      <td>285.826674</td>\n",
       "      <td>283.194911</td>\n",
       "      <td>303.495250</td>\n",
       "      <td>266.478216</td>\n",
       "      <td>291.909526</td>\n",
       "      <td>330.067630</td>\n",
       "      <td>328.892419</td>\n",
       "      <td>361.711721</td>\n",
       "      <td>394.735688</td>\n",
       "      <td>331.903072</td>\n",
       "    </tr>\n",
       "    <tr>\n",
       "      <th>4</th>\n",
       "      <td>263.986215</td>\n",
       "      <td>271.940488</td>\n",
       "      <td>263.067760</td>\n",
       "      <td>329.152787</td>\n",
       "      <td>330.610855</td>\n",
       "      <td>323.242036</td>\n",
       "      <td>330.916941</td>\n",
       "      <td>373.492527</td>\n",
       "      <td>418.927589</td>\n",
       "      <td>409.680107</td>\n",
       "      <td>...</td>\n",
       "      <td>275.627521</td>\n",
       "      <td>268.407672</td>\n",
       "      <td>320.399632</td>\n",
       "      <td>313.166710</td>\n",
       "      <td>340.266630</td>\n",
       "      <td>298.698256</td>\n",
       "      <td>309.687106</td>\n",
       "      <td>353.887685</td>\n",
       "      <td>372.401295</td>\n",
       "      <td>372.752384</td>\n",
       "    </tr>\n",
       "    <tr>\n",
       "      <th>...</th>\n",
       "      <td>...</td>\n",
       "      <td>...</td>\n",
       "      <td>...</td>\n",
       "      <td>...</td>\n",
       "      <td>...</td>\n",
       "      <td>...</td>\n",
       "      <td>...</td>\n",
       "      <td>...</td>\n",
       "      <td>...</td>\n",
       "      <td>...</td>\n",
       "      <td>...</td>\n",
       "      <td>...</td>\n",
       "      <td>...</td>\n",
       "      <td>...</td>\n",
       "      <td>...</td>\n",
       "      <td>...</td>\n",
       "      <td>...</td>\n",
       "      <td>...</td>\n",
       "      <td>...</td>\n",
       "      <td>...</td>\n",
       "      <td>...</td>\n",
       "    </tr>\n",
       "    <tr>\n",
       "      <th>1995</th>\n",
       "      <td>226.282660</td>\n",
       "      <td>253.822385</td>\n",
       "      <td>302.800552</td>\n",
       "      <td>306.443016</td>\n",
       "      <td>321.355212</td>\n",
       "      <td>372.447521</td>\n",
       "      <td>330.360340</td>\n",
       "      <td>395.556175</td>\n",
       "      <td>424.903408</td>\n",
       "      <td>434.575407</td>\n",
       "      <td>...</td>\n",
       "      <td>234.476874</td>\n",
       "      <td>223.828558</td>\n",
       "      <td>248.590367</td>\n",
       "      <td>294.218564</td>\n",
       "      <td>286.095296</td>\n",
       "      <td>304.949879</td>\n",
       "      <td>312.195957</td>\n",
       "      <td>319.178045</td>\n",
       "      <td>357.044903</td>\n",
       "      <td>392.085772</td>\n",
       "    </tr>\n",
       "    <tr>\n",
       "      <th>1996</th>\n",
       "      <td>258.281744</td>\n",
       "      <td>260.868769</td>\n",
       "      <td>290.180107</td>\n",
       "      <td>317.932840</td>\n",
       "      <td>325.935245</td>\n",
       "      <td>332.021826</td>\n",
       "      <td>367.773730</td>\n",
       "      <td>398.089962</td>\n",
       "      <td>473.800588</td>\n",
       "      <td>455.697782</td>\n",
       "      <td>...</td>\n",
       "      <td>287.853581</td>\n",
       "      <td>316.327720</td>\n",
       "      <td>309.739981</td>\n",
       "      <td>304.469533</td>\n",
       "      <td>288.880770</td>\n",
       "      <td>297.999546</td>\n",
       "      <td>354.532710</td>\n",
       "      <td>359.848144</td>\n",
       "      <td>356.404632</td>\n",
       "      <td>401.033310</td>\n",
       "    </tr>\n",
       "    <tr>\n",
       "      <th>1997</th>\n",
       "      <td>197.016113</td>\n",
       "      <td>304.126457</td>\n",
       "      <td>295.384225</td>\n",
       "      <td>323.884761</td>\n",
       "      <td>326.597302</td>\n",
       "      <td>360.875468</td>\n",
       "      <td>380.889861</td>\n",
       "      <td>419.809150</td>\n",
       "      <td>406.835478</td>\n",
       "      <td>429.910705</td>\n",
       "      <td>...</td>\n",
       "      <td>211.340150</td>\n",
       "      <td>283.066146</td>\n",
       "      <td>271.101018</td>\n",
       "      <td>307.310605</td>\n",
       "      <td>285.748822</td>\n",
       "      <td>362.601865</td>\n",
       "      <td>369.162297</td>\n",
       "      <td>349.632497</td>\n",
       "      <td>359.411363</td>\n",
       "      <td>363.359441</td>\n",
       "    </tr>\n",
       "    <tr>\n",
       "      <th>1998</th>\n",
       "      <td>254.100471</td>\n",
       "      <td>286.131351</td>\n",
       "      <td>298.205133</td>\n",
       "      <td>342.985942</td>\n",
       "      <td>331.850058</td>\n",
       "      <td>324.558203</td>\n",
       "      <td>388.316479</td>\n",
       "      <td>350.785937</td>\n",
       "      <td>427.536324</td>\n",
       "      <td>456.429333</td>\n",
       "      <td>...</td>\n",
       "      <td>268.220247</td>\n",
       "      <td>284.554748</td>\n",
       "      <td>298.103725</td>\n",
       "      <td>255.374572</td>\n",
       "      <td>355.045016</td>\n",
       "      <td>354.242462</td>\n",
       "      <td>318.824477</td>\n",
       "      <td>338.524440</td>\n",
       "      <td>386.358121</td>\n",
       "      <td>356.904616</td>\n",
       "    </tr>\n",
       "    <tr>\n",
       "      <th>1999</th>\n",
       "      <td>237.559033</td>\n",
       "      <td>245.452710</td>\n",
       "      <td>273.917164</td>\n",
       "      <td>327.800104</td>\n",
       "      <td>328.259238</td>\n",
       "      <td>382.197610</td>\n",
       "      <td>375.460508</td>\n",
       "      <td>421.172146</td>\n",
       "      <td>443.141987</td>\n",
       "      <td>478.252626</td>\n",
       "      <td>...</td>\n",
       "      <td>316.087478</td>\n",
       "      <td>277.526525</td>\n",
       "      <td>293.980447</td>\n",
       "      <td>331.295279</td>\n",
       "      <td>309.449742</td>\n",
       "      <td>304.645968</td>\n",
       "      <td>361.254557</td>\n",
       "      <td>335.208107</td>\n",
       "      <td>321.997372</td>\n",
       "      <td>395.106183</td>\n",
       "    </tr>\n",
       "  </tbody>\n",
       "</table>\n",
       "<p>2000 rows × 180 columns</p>\n",
       "</div>"
      ],
      "text/plain": [
       "             0           1           2           3           4           5    \\\n",
       "0     221.348404  246.301137  281.504843  298.783743  283.778550  382.501627   \n",
       "1     258.413680  240.297298  304.227009  349.003675  327.485109  352.642160   \n",
       "2     288.567813  256.737795  300.528556  328.903950  340.805312  375.411487   \n",
       "3     283.890856  290.221804  339.141279  319.872522  347.887489  325.377463   \n",
       "4     263.986215  271.940488  263.067760  329.152787  330.610855  323.242036   \n",
       "...          ...         ...         ...         ...         ...         ...   \n",
       "1995  226.282660  253.822385  302.800552  306.443016  321.355212  372.447521   \n",
       "1996  258.281744  260.868769  290.180107  317.932840  325.935245  332.021826   \n",
       "1997  197.016113  304.126457  295.384225  323.884761  326.597302  360.875468   \n",
       "1998  254.100471  286.131351  298.205133  342.985942  331.850058  324.558203   \n",
       "1999  237.559033  245.452710  273.917164  327.800104  328.259238  382.197610   \n",
       "\n",
       "             6           7           8           9    ...         170  \\\n",
       "0     410.412267  396.121811  401.675644  433.253666  ...  221.776961   \n",
       "1     382.214687  390.655123  408.396323  479.647867  ...  308.849173   \n",
       "2     414.562217  431.459041  457.899931  422.490487  ...  246.969470   \n",
       "3     401.172961  448.499497  404.135901  445.199017  ...  285.826674   \n",
       "4     330.916941  373.492527  418.927589  409.680107  ...  275.627521   \n",
       "...          ...         ...         ...         ...  ...         ...   \n",
       "1995  330.360340  395.556175  424.903408  434.575407  ...  234.476874   \n",
       "1996  367.773730  398.089962  473.800588  455.697782  ...  287.853581   \n",
       "1997  380.889861  419.809150  406.835478  429.910705  ...  211.340150   \n",
       "1998  388.316479  350.785937  427.536324  456.429333  ...  268.220247   \n",
       "1999  375.460508  421.172146  443.141987  478.252626  ...  316.087478   \n",
       "\n",
       "             171         172         173         174         175         176  \\\n",
       "0     350.640104  300.081095  348.150427  335.105656  284.163669  294.178477   \n",
       "1     290.834335  283.358114  308.442525  346.755540  358.485231  337.776151   \n",
       "2     274.676314  274.673515  280.440062  308.666542  335.467031  317.563494   \n",
       "3     283.194911  303.495250  266.478216  291.909526  330.067630  328.892419   \n",
       "4     268.407672  320.399632  313.166710  340.266630  298.698256  309.687106   \n",
       "...          ...         ...         ...         ...         ...         ...   \n",
       "1995  223.828558  248.590367  294.218564  286.095296  304.949879  312.195957   \n",
       "1996  316.327720  309.739981  304.469533  288.880770  297.999546  354.532710   \n",
       "1997  283.066146  271.101018  307.310605  285.748822  362.601865  369.162297   \n",
       "1998  284.554748  298.103725  255.374572  355.045016  354.242462  318.824477   \n",
       "1999  277.526525  293.980447  331.295279  309.449742  304.645968  361.254557   \n",
       "\n",
       "             177         178         179  \n",
       "0     330.588328  352.735628  404.406192  \n",
       "1     395.098415  383.978622  364.491669  \n",
       "2     391.969518  423.688073  337.736295  \n",
       "3     361.711721  394.735688  331.903072  \n",
       "4     353.887685  372.401295  372.752384  \n",
       "...          ...         ...         ...  \n",
       "1995  319.178045  357.044903  392.085772  \n",
       "1996  359.848144  356.404632  401.033310  \n",
       "1997  349.632497  359.411363  363.359441  \n",
       "1998  338.524440  386.358121  356.904616  \n",
       "1999  335.208107  321.997372  395.106183  \n",
       "\n",
       "[2000 rows x 180 columns]"
      ]
     },
     "execution_count": 25,
     "metadata": {},
     "output_type": "execute_result"
    }
   ],
   "source": [
    "df_predictive2 = pd.DataFrame(fit.extract(\"r_simulated\")[\"r_simulated\"])\n",
    "df_predictive2"
   ]
  },
  {
   "cell_type": "code",
   "execution_count": 26,
   "metadata": {},
   "outputs": [
    {
     "data": {
      "text/plain": [
       "<matplotlib.collections.PathCollection at 0x7fbafee4d4f0>"
      ]
     },
     "execution_count": 26,
     "metadata": {},
     "output_type": "execute_result"
    },
    {
     "data": {
      "image/png": "[encoded data removed]",
      "text/plain": [
       "<Figure size 1296x576 with 1 Axes>"
      ]
     },
     "metadata": {
      "needs_background": "light"
     },
     "output_type": "display_data"
    }
   ],
   "source": [
    "plt.figure(figsize=(18,8))\n",
    "sns.violinplot(data=df_predictive2.iloc[:,0:10],color=\"orange\",alpha=.1)\n",
    "# plt.xlim([-1,10]);\n",
    "plt.scatter(df[\"Days\"].iloc[0:10],df[\"Reaction\"].iloc[0:10],s=100)"
   ]
  },
  {
   "cell_type": "code",
   "execution_count": 27,
   "metadata": {},
   "outputs": [
    {
     "data": {
      "text/html": [
       "<div>\n",
       "<style scoped>\n",
       "    .dataframe tbody tr th:only-of-type {\n",
       "        vertical-align: middle;\n",
       "    }\n",
       "\n",
       "    .dataframe tbody tr th {\n",
       "        vertical-align: top;\n",
       "    }\n",
       "\n",
       "    .dataframe thead th {\n",
       "        text-align: right;\n",
       "    }\n",
       "</style>\n",
       "<table border=\"1\" class=\"dataframe\">\n",
       "  <thead>\n",
       "    <tr style=\"text-align: right;\">\n",
       "      <th></th>\n",
       "      <th>0</th>\n",
       "      <th>9</th>\n",
       "      <th>18</th>\n",
       "      <th>27</th>\n",
       "      <th>36</th>\n",
       "      <th>45</th>\n",
       "      <th>54</th>\n",
       "      <th>63</th>\n",
       "      <th>72</th>\n",
       "      <th>81</th>\n",
       "      <th>90</th>\n",
       "      <th>99</th>\n",
       "      <th>108</th>\n",
       "      <th>117</th>\n",
       "      <th>126</th>\n",
       "      <th>135</th>\n",
       "      <th>144</th>\n",
       "      <th>153</th>\n",
       "      <th>162</th>\n",
       "      <th>171</th>\n",
       "    </tr>\n",
       "  </thead>\n",
       "  <tbody>\n",
       "    <tr>\n",
       "      <th>0</th>\n",
       "      <td>221.348404</td>\n",
       "      <td>433.253666</td>\n",
       "      <td>246.868239</td>\n",
       "      <td>282.445644</td>\n",
       "      <td>310.937902</td>\n",
       "      <td>307.160390</td>\n",
       "      <td>292.245885</td>\n",
       "      <td>292.519532</td>\n",
       "      <td>276.779705</td>\n",
       "      <td>263.076046</td>\n",
       "      <td>276.033816</td>\n",
       "      <td>487.560171</td>\n",
       "      <td>290.901720</td>\n",
       "      <td>371.971930</td>\n",
       "      <td>270.702305</td>\n",
       "      <td>368.553967</td>\n",
       "      <td>292.674807</td>\n",
       "      <td>277.752778</td>\n",
       "      <td>280.496889</td>\n",
       "      <td>350.640104</td>\n",
       "    </tr>\n",
       "    <tr>\n",
       "      <th>1</th>\n",
       "      <td>258.413680</td>\n",
       "      <td>479.647867</td>\n",
       "      <td>236.739396</td>\n",
       "      <td>228.230304</td>\n",
       "      <td>295.984791</td>\n",
       "      <td>302.726022</td>\n",
       "      <td>294.005879</td>\n",
       "      <td>317.030393</td>\n",
       "      <td>234.883468</td>\n",
       "      <td>307.793491</td>\n",
       "      <td>283.373432</td>\n",
       "      <td>471.571390</td>\n",
       "      <td>271.926775</td>\n",
       "      <td>361.221838</td>\n",
       "      <td>276.661587</td>\n",
       "      <td>329.422782</td>\n",
       "      <td>263.332025</td>\n",
       "      <td>288.959376</td>\n",
       "      <td>240.740170</td>\n",
       "      <td>290.834335</td>\n",
       "    </tr>\n",
       "    <tr>\n",
       "      <th>2</th>\n",
       "      <td>288.567813</td>\n",
       "      <td>422.490487</td>\n",
       "      <td>213.809707</td>\n",
       "      <td>257.191777</td>\n",
       "      <td>319.612225</td>\n",
       "      <td>333.073580</td>\n",
       "      <td>297.300195</td>\n",
       "      <td>301.553818</td>\n",
       "      <td>239.664754</td>\n",
       "      <td>231.810743</td>\n",
       "      <td>245.830575</td>\n",
       "      <td>511.998763</td>\n",
       "      <td>319.490291</td>\n",
       "      <td>371.100424</td>\n",
       "      <td>250.030968</td>\n",
       "      <td>323.315774</td>\n",
       "      <td>312.739863</td>\n",
       "      <td>273.836169</td>\n",
       "      <td>275.189358</td>\n",
       "      <td>274.676314</td>\n",
       "    </tr>\n",
       "    <tr>\n",
       "      <th>3</th>\n",
       "      <td>283.890856</td>\n",
       "      <td>445.199017</td>\n",
       "      <td>224.260708</td>\n",
       "      <td>219.309550</td>\n",
       "      <td>269.508119</td>\n",
       "      <td>370.562741</td>\n",
       "      <td>341.455671</td>\n",
       "      <td>296.948085</td>\n",
       "      <td>215.581115</td>\n",
       "      <td>262.668222</td>\n",
       "      <td>290.350890</td>\n",
       "      <td>464.209357</td>\n",
       "      <td>279.533002</td>\n",
       "      <td>401.370461</td>\n",
       "      <td>323.116109</td>\n",
       "      <td>365.434542</td>\n",
       "      <td>290.228053</td>\n",
       "      <td>257.434664</td>\n",
       "      <td>277.230596</td>\n",
       "      <td>283.194911</td>\n",
       "    </tr>\n",
       "    <tr>\n",
       "      <th>4</th>\n",
       "      <td>263.986215</td>\n",
       "      <td>409.680107</td>\n",
       "      <td>267.257706</td>\n",
       "      <td>201.333204</td>\n",
       "      <td>294.942649</td>\n",
       "      <td>299.010449</td>\n",
       "      <td>326.487260</td>\n",
       "      <td>297.610385</td>\n",
       "      <td>268.206621</td>\n",
       "      <td>281.565483</td>\n",
       "      <td>296.463843</td>\n",
       "      <td>500.943326</td>\n",
       "      <td>323.466014</td>\n",
       "      <td>321.231422</td>\n",
       "      <td>286.393492</td>\n",
       "      <td>335.327485</td>\n",
       "      <td>326.233428</td>\n",
       "      <td>237.289397</td>\n",
       "      <td>316.549128</td>\n",
       "      <td>268.407672</td>\n",
       "    </tr>\n",
       "    <tr>\n",
       "      <th>...</th>\n",
       "      <td>...</td>\n",
       "      <td>...</td>\n",
       "      <td>...</td>\n",
       "      <td>...</td>\n",
       "      <td>...</td>\n",
       "      <td>...</td>\n",
       "      <td>...</td>\n",
       "      <td>...</td>\n",
       "      <td>...</td>\n",
       "      <td>...</td>\n",
       "      <td>...</td>\n",
       "      <td>...</td>\n",
       "      <td>...</td>\n",
       "      <td>...</td>\n",
       "      <td>...</td>\n",
       "      <td>...</td>\n",
       "      <td>...</td>\n",
       "      <td>...</td>\n",
       "      <td>...</td>\n",
       "      <td>...</td>\n",
       "    </tr>\n",
       "    <tr>\n",
       "      <th>1995</th>\n",
       "      <td>226.282660</td>\n",
       "      <td>434.575407</td>\n",
       "      <td>231.799141</td>\n",
       "      <td>246.842192</td>\n",
       "      <td>246.578191</td>\n",
       "      <td>290.883729</td>\n",
       "      <td>300.664558</td>\n",
       "      <td>314.631918</td>\n",
       "      <td>231.975686</td>\n",
       "      <td>259.851115</td>\n",
       "      <td>301.855777</td>\n",
       "      <td>438.503573</td>\n",
       "      <td>326.305293</td>\n",
       "      <td>349.609949</td>\n",
       "      <td>296.051838</td>\n",
       "      <td>349.828888</td>\n",
       "      <td>308.394741</td>\n",
       "      <td>292.055677</td>\n",
       "      <td>293.184959</td>\n",
       "      <td>223.828558</td>\n",
       "    </tr>\n",
       "    <tr>\n",
       "      <th>1996</th>\n",
       "      <td>258.281744</td>\n",
       "      <td>455.697782</td>\n",
       "      <td>183.353807</td>\n",
       "      <td>190.263747</td>\n",
       "      <td>318.967786</td>\n",
       "      <td>379.320189</td>\n",
       "      <td>279.268834</td>\n",
       "      <td>282.536581</td>\n",
       "      <td>219.274673</td>\n",
       "      <td>291.102847</td>\n",
       "      <td>273.214480</td>\n",
       "      <td>490.457991</td>\n",
       "      <td>332.929112</td>\n",
       "      <td>380.453509</td>\n",
       "      <td>274.412157</td>\n",
       "      <td>328.808764</td>\n",
       "      <td>319.925698</td>\n",
       "      <td>276.326163</td>\n",
       "      <td>241.429999</td>\n",
       "      <td>316.327720</td>\n",
       "    </tr>\n",
       "    <tr>\n",
       "      <th>1997</th>\n",
       "      <td>197.016113</td>\n",
       "      <td>429.910705</td>\n",
       "      <td>202.502261</td>\n",
       "      <td>240.220123</td>\n",
       "      <td>331.489253</td>\n",
       "      <td>294.184480</td>\n",
       "      <td>289.686136</td>\n",
       "      <td>380.024646</td>\n",
       "      <td>283.122951</td>\n",
       "      <td>252.158486</td>\n",
       "      <td>327.577578</td>\n",
       "      <td>485.444609</td>\n",
       "      <td>336.468320</td>\n",
       "      <td>345.008464</td>\n",
       "      <td>323.261083</td>\n",
       "      <td>337.609879</td>\n",
       "      <td>276.312284</td>\n",
       "      <td>254.427910</td>\n",
       "      <td>303.122670</td>\n",
       "      <td>283.066146</td>\n",
       "    </tr>\n",
       "    <tr>\n",
       "      <th>1998</th>\n",
       "      <td>254.100471</td>\n",
       "      <td>456.429333</td>\n",
       "      <td>209.289761</td>\n",
       "      <td>230.102167</td>\n",
       "      <td>302.191323</td>\n",
       "      <td>327.026908</td>\n",
       "      <td>298.508888</td>\n",
       "      <td>254.295817</td>\n",
       "      <td>225.157136</td>\n",
       "      <td>247.461942</td>\n",
       "      <td>300.434103</td>\n",
       "      <td>413.382526</td>\n",
       "      <td>319.103985</td>\n",
       "      <td>395.569110</td>\n",
       "      <td>249.440583</td>\n",
       "      <td>324.099775</td>\n",
       "      <td>309.090501</td>\n",
       "      <td>238.892008</td>\n",
       "      <td>250.631404</td>\n",
       "      <td>284.554748</td>\n",
       "    </tr>\n",
       "    <tr>\n",
       "      <th>1999</th>\n",
       "      <td>237.559033</td>\n",
       "      <td>478.252626</td>\n",
       "      <td>234.864908</td>\n",
       "      <td>275.767991</td>\n",
       "      <td>292.987299</td>\n",
       "      <td>309.885379</td>\n",
       "      <td>343.012297</td>\n",
       "      <td>316.247274</td>\n",
       "      <td>293.997972</td>\n",
       "      <td>283.214938</td>\n",
       "      <td>281.863994</td>\n",
       "      <td>420.384704</td>\n",
       "      <td>307.869387</td>\n",
       "      <td>335.709760</td>\n",
       "      <td>293.446950</td>\n",
       "      <td>330.176277</td>\n",
       "      <td>319.515643</td>\n",
       "      <td>266.655491</td>\n",
       "      <td>293.400322</td>\n",
       "      <td>277.526525</td>\n",
       "    </tr>\n",
       "  </tbody>\n",
       "</table>\n",
       "<p>2000 rows × 20 columns</p>\n",
       "</div>"
      ],
      "text/plain": [
       "             0           9           18          27          36          45   \\\n",
       "0     221.348404  433.253666  246.868239  282.445644  310.937902  307.160390   \n",
       "1     258.413680  479.647867  236.739396  228.230304  295.984791  302.726022   \n",
       "2     288.567813  422.490487  213.809707  257.191777  319.612225  333.073580   \n",
       "3     283.890856  445.199017  224.260708  219.309550  269.508119  370.562741   \n",
       "4     263.986215  409.680107  267.257706  201.333204  294.942649  299.010449   \n",
       "...          ...         ...         ...         ...         ...         ...   \n",
       "1995  226.282660  434.575407  231.799141  246.842192  246.578191  290.883729   \n",
       "1996  258.281744  455.697782  183.353807  190.263747  318.967786  379.320189   \n",
       "1997  197.016113  429.910705  202.502261  240.220123  331.489253  294.184480   \n",
       "1998  254.100471  456.429333  209.289761  230.102167  302.191323  327.026908   \n",
       "1999  237.559033  478.252626  234.864908  275.767991  292.987299  309.885379   \n",
       "\n",
       "             54          63          72          81          90          99   \\\n",
       "0     292.245885  292.519532  276.779705  263.076046  276.033816  487.560171   \n",
       "1     294.005879  317.030393  234.883468  307.793491  283.373432  471.571390   \n",
       "2     297.300195  301.553818  239.664754  231.810743  245.830575  511.998763   \n",
       "3     341.455671  296.948085  215.581115  262.668222  290.350890  464.209357   \n",
       "4     326.487260  297.610385  268.206621  281.565483  296.463843  500.943326   \n",
       "...          ...         ...         ...         ...         ...         ...   \n",
       "1995  300.664558  314.631918  231.975686  259.851115  301.855777  438.503573   \n",
       "1996  279.268834  282.536581  219.274673  291.102847  273.214480  490.457991   \n",
       "1997  289.686136  380.024646  283.122951  252.158486  327.577578  485.444609   \n",
       "1998  298.508888  254.295817  225.157136  247.461942  300.434103  413.382526   \n",
       "1999  343.012297  316.247274  293.997972  283.214938  281.863994  420.384704   \n",
       "\n",
       "             108         117         126         135         144         153  \\\n",
       "0     290.901720  371.971930  270.702305  368.553967  292.674807  277.752778   \n",
       "1     271.926775  361.221838  276.661587  329.422782  263.332025  288.959376   \n",
       "2     319.490291  371.100424  250.030968  323.315774  312.739863  273.836169   \n",
       "3     279.533002  401.370461  323.116109  365.434542  290.228053  257.434664   \n",
       "4     323.466014  321.231422  286.393492  335.327485  326.233428  237.289397   \n",
       "...          ...         ...         ...         ...         ...         ...   \n",
       "1995  326.305293  349.609949  296.051838  349.828888  308.394741  292.055677   \n",
       "1996  332.929112  380.453509  274.412157  328.808764  319.925698  276.326163   \n",
       "1997  336.468320  345.008464  323.261083  337.609879  276.312284  254.427910   \n",
       "1998  319.103985  395.569110  249.440583  324.099775  309.090501  238.892008   \n",
       "1999  307.869387  335.709760  293.446950  330.176277  319.515643  266.655491   \n",
       "\n",
       "             162         171  \n",
       "0     280.496889  350.640104  \n",
       "1     240.740170  290.834335  \n",
       "2     275.189358  274.676314  \n",
       "3     277.230596  283.194911  \n",
       "4     316.549128  268.407672  \n",
       "...          ...         ...  \n",
       "1995  293.184959  223.828558  \n",
       "1996  241.429999  316.327720  \n",
       "1997  303.122670  283.066146  \n",
       "1998  250.631404  284.554748  \n",
       "1999  293.400322  277.526525  \n",
       "\n",
       "[2000 rows x 20 columns]"
      ]
     },
     "execution_count": 27,
     "metadata": {},
     "output_type": "execute_result"
    }
   ],
   "source": [
    "df_predictive2.iloc[:,0:-1:9]"
   ]
  },
  {
   "cell_type": "code",
   "execution_count": 28,
   "metadata": {},
   "outputs": [],
   "source": [
    "my_dict = {i: redo_subject_id(df[\"Subject\"]).count(i) for i in  redo_subject_id(df[\"Subject\"])}"
   ]
  },
  {
   "cell_type": "code",
   "execution_count": 29,
   "metadata": {},
   "outputs": [
    {
     "data": {
      "text/plain": [
       "{1: 10,\n",
       " 2: 10,\n",
       " 3: 10,\n",
       " 4: 10,\n",
       " 5: 10,\n",
       " 6: 10,\n",
       " 7: 10,\n",
       " 8: 10,\n",
       " 9: 10,\n",
       " 10: 10,\n",
       " 11: 10,\n",
       " 12: 10,\n",
       " 13: 10,\n",
       " 14: 10,\n",
       " 15: 10,\n",
       " 16: 10,\n",
       " 17: 10,\n",
       " 18: 10}"
      ]
     },
     "execution_count": 29,
     "metadata": {},
     "output_type": "execute_result"
    }
   ],
   "source": [
    "my_dict"
   ]
  },
  {
   "cell_type": "code",
   "execution_count": 30,
   "metadata": {},
   "outputs": [
    {
     "data": {
      "text/html": [
       "<div>\n",
       "<style scoped>\n",
       "    .dataframe tbody tr th:only-of-type {\n",
       "        vertical-align: middle;\n",
       "    }\n",
       "\n",
       "    .dataframe tbody tr th {\n",
       "        vertical-align: top;\n",
       "    }\n",
       "\n",
       "    .dataframe thead th {\n",
       "        text-align: right;\n",
       "    }\n",
       "</style>\n",
       "<table border=\"1\" class=\"dataframe\">\n",
       "  <thead>\n",
       "    <tr style=\"text-align: right;\">\n",
       "      <th></th>\n",
       "      <th>Unnamed: 0</th>\n",
       "      <th>Reaction</th>\n",
       "      <th>Days</th>\n",
       "      <th>Subject</th>\n",
       "    </tr>\n",
       "  </thead>\n",
       "  <tbody>\n",
       "    <tr>\n",
       "      <th>0</th>\n",
       "      <td>1</td>\n",
       "      <td>249.5600</td>\n",
       "      <td>0</td>\n",
       "      <td>308</td>\n",
       "    </tr>\n",
       "    <tr>\n",
       "      <th>1</th>\n",
       "      <td>2</td>\n",
       "      <td>258.7047</td>\n",
       "      <td>1</td>\n",
       "      <td>308</td>\n",
       "    </tr>\n",
       "    <tr>\n",
       "      <th>2</th>\n",
       "      <td>3</td>\n",
       "      <td>250.8006</td>\n",
       "      <td>2</td>\n",
       "      <td>308</td>\n",
       "    </tr>\n",
       "    <tr>\n",
       "      <th>3</th>\n",
       "      <td>4</td>\n",
       "      <td>321.4398</td>\n",
       "      <td>3</td>\n",
       "      <td>308</td>\n",
       "    </tr>\n",
       "    <tr>\n",
       "      <th>4</th>\n",
       "      <td>5</td>\n",
       "      <td>356.8519</td>\n",
       "      <td>4</td>\n",
       "      <td>308</td>\n",
       "    </tr>\n",
       "    <tr>\n",
       "      <th>5</th>\n",
       "      <td>6</td>\n",
       "      <td>414.6901</td>\n",
       "      <td>5</td>\n",
       "      <td>308</td>\n",
       "    </tr>\n",
       "    <tr>\n",
       "      <th>6</th>\n",
       "      <td>7</td>\n",
       "      <td>382.2038</td>\n",
       "      <td>6</td>\n",
       "      <td>308</td>\n",
       "    </tr>\n",
       "    <tr>\n",
       "      <th>7</th>\n",
       "      <td>8</td>\n",
       "      <td>290.1486</td>\n",
       "      <td>7</td>\n",
       "      <td>308</td>\n",
       "    </tr>\n",
       "    <tr>\n",
       "      <th>8</th>\n",
       "      <td>9</td>\n",
       "      <td>430.5853</td>\n",
       "      <td>8</td>\n",
       "      <td>308</td>\n",
       "    </tr>\n",
       "    <tr>\n",
       "      <th>9</th>\n",
       "      <td>10</td>\n",
       "      <td>466.3535</td>\n",
       "      <td>9</td>\n",
       "      <td>308</td>\n",
       "    </tr>\n",
       "  </tbody>\n",
       "</table>\n",
       "</div>"
      ],
      "text/plain": [
       "   Unnamed: 0  Reaction  Days  Subject\n",
       "0           1  249.5600     0      308\n",
       "1           2  258.7047     1      308\n",
       "2           3  250.8006     2      308\n",
       "3           4  321.4398     3      308\n",
       "4           5  356.8519     4      308\n",
       "5           6  414.6901     5      308\n",
       "6           7  382.2038     6      308\n",
       "7           8  290.1486     7      308\n",
       "8           9  430.5853     8      308\n",
       "9          10  466.3535     9      308"
      ]
     },
     "execution_count": 30,
     "metadata": {},
     "output_type": "execute_result"
    }
   ],
   "source": [
    "df.head(10)"
   ]
  },
  {
   "cell_type": "code",
   "execution_count": 41,
   "metadata": {},
   "outputs": [
    {
     "data": {
      "text/plain": [
       "<matplotlib.collections.PathCollection at 0x7fbabec47580>"
      ]
     },
     "execution_count": 41,
     "metadata": {},
     "output_type": "execute_result"
    },
    {
     "data": {
      "image/png": "[encoded data removed]",
      "text/plain": [
       "<Figure size 1296x576 with 1 Axes>"
      ]
     },
     "metadata": {
      "needs_background": "light"
     },
     "output_type": "display_data"
    }
   ],
   "source": [
    "plt.figure(figsize=(18,8))\n",
    "sns.violinplot(data=df_predictive2.iloc[:,11:21],color=\"orange\",alpha=.1)\n",
    "plt.scatter(df[\"Days\"].iloc[11:21],df[\"Reaction\"].iloc[11:21],s=100)"
   ]
  },
  {
   "cell_type": "code",
   "execution_count": null,
   "metadata": {},
   "outputs": [],
   "source": []
  },
  {
   "cell_type": "code",
   "execution_count": null,
   "metadata": {},
   "outputs": [],
   "source": []
  },
  {
   "cell_type": "code",
   "execution_count": null,
   "metadata": {},
   "outputs": [],
   "source": []
  },
  {
   "cell_type": "code",
   "execution_count": null,
   "metadata": {},
   "outputs": [],
   "source": []
  },
  {
   "cell_type": "code",
   "execution_count": null,
   "metadata": {},
   "outputs": [],
   "source": []
  },
  {
   "cell_type": "code",
   "execution_count": null,
   "metadata": {},
   "outputs": [],
   "source": []
  },
  {
   "cell_type": "code",
   "execution_count": null,
   "metadata": {},
   "outputs": [],
   "source": []
  },
  {
   "cell_type": "code",
   "execution_count": null,
   "metadata": {},
   "outputs": [],
   "source": []
  },
  {
   "cell_type": "code",
   "execution_count": null,
   "metadata": {},
   "outputs": [],
   "source": []
  },
  {
   "cell_type": "code",
   "execution_count": null,
   "metadata": {},
   "outputs": [],
   "source": []
  },
  {
   "cell_type": "code",
   "execution_count": null,
   "metadata": {},
   "outputs": [],
   "source": []
  },
  {
   "cell_type": "code",
   "execution_count": null,
   "metadata": {},
   "outputs": [],
   "source": []
  },
  {
   "cell_type": "code",
   "execution_count": null,
   "metadata": {},
   "outputs": [],
   "source": []
  }
 ],
 "metadata": {
  "kernelspec": {
   "display_name": "Python 3",
   "language": "python",
   "name": "python3"
  },
  "language_info": {
   "codemirror_mode": {
    "name": "ipython",
    "version": 3
   },
   "file_extension": ".py",
   "mimetype": "text/x-python",
   "name": "python",
   "nbconvert_exporter": "python",
   "pygments_lexer": "ipython3",
   "version": "3.8.5"
  }
 },
 "nbformat": 4,
 "nbformat_minor": 4
}
